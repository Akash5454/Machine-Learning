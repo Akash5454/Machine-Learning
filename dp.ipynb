{
  "nbformat": 4,
  "nbformat_minor": 0,
  "metadata": {
    "colab": {
      "name": "dp",
      "version": "0.3.2",
      "provenance": [],
      "collapsed_sections": []
    },
    "kernelspec": {
      "name": "python3",
      "display_name": "Python 3"
    }
  },
  "cells": [
    {
      "cell_type": "code",
      "metadata": {
        "id": "z3wTYlooOZRH",
        "colab_type": "code",
        "colab": {}
      },
      "source": [
        "import tensorflow as tf"
      ],
      "execution_count": 0,
      "outputs": []
    },
    {
      "cell_type": "code",
      "metadata": {
        "id": "rxbm9We1OpJn",
        "colab_type": "code",
        "colab": {}
      },
      "source": [
        "from tensorflow.examples.tutorials.mnist import input_data"
      ],
      "execution_count": 0,
      "outputs": []
    },
    {
      "cell_type": "code",
      "metadata": {
        "id": "39Q-kO26PBHk",
        "colab_type": "code",
        "outputId": "11dfa7aa-0413-4f96-8c1d-d86934f9dae8",
        "colab": {
          "base_uri": "https://localhost:8080/",
          "height": 373
        }
      },
      "source": [
        "mnist = input_data.read_data_sets('mnist-data', one_hot=True)"
      ],
      "execution_count": 33,
      "outputs": [
        {
          "output_type": "stream",
          "text": [
            "W0731 13:03:05.037677 140251456051072 deprecation.py:323] From /usr/local/lib/python3.6/dist-packages/tensorflow/contrib/learn/python/learn/datasets/mnist.py:262: extract_images (from tensorflow.contrib.learn.python.learn.datasets.mnist) is deprecated and will be removed in a future version.\n",
            "Instructions for updating:\n",
            "Please use tf.data to implement this functionality.\n"
          ],
          "name": "stderr"
        },
        {
          "output_type": "stream",
          "text": [
            "Successfully downloaded train-images-idx3-ubyte.gz 9912422 bytes.\n",
            "Extracting mnist-data/train-images-idx3-ubyte.gz\n"
          ],
          "name": "stdout"
        },
        {
          "output_type": "stream",
          "text": [
            "W0731 13:03:05.441437 140251456051072 deprecation.py:323] From /usr/local/lib/python3.6/dist-packages/tensorflow/contrib/learn/python/learn/datasets/mnist.py:267: extract_labels (from tensorflow.contrib.learn.python.learn.datasets.mnist) is deprecated and will be removed in a future version.\n",
            "Instructions for updating:\n",
            "Please use tf.data to implement this functionality.\n",
            "W0731 13:03:05.446341 140251456051072 deprecation.py:323] From /usr/local/lib/python3.6/dist-packages/tensorflow/contrib/learn/python/learn/datasets/mnist.py:110: dense_to_one_hot (from tensorflow.contrib.learn.python.learn.datasets.mnist) is deprecated and will be removed in a future version.\n",
            "Instructions for updating:\n",
            "Please use tf.one_hot on tensors.\n"
          ],
          "name": "stderr"
        },
        {
          "output_type": "stream",
          "text": [
            "Successfully downloaded train-labels-idx1-ubyte.gz 28881 bytes.\n",
            "Extracting mnist-data/train-labels-idx1-ubyte.gz\n",
            "Successfully downloaded t10k-images-idx3-ubyte.gz 1648877 bytes.\n",
            "Extracting mnist-data/t10k-images-idx3-ubyte.gz\n"
          ],
          "name": "stdout"
        },
        {
          "output_type": "stream",
          "text": [
            "W0731 13:03:05.698674 140251456051072 deprecation.py:323] From /usr/local/lib/python3.6/dist-packages/tensorflow/contrib/learn/python/learn/datasets/mnist.py:290: DataSet.__init__ (from tensorflow.contrib.learn.python.learn.datasets.mnist) is deprecated and will be removed in a future version.\n",
            "Instructions for updating:\n",
            "Please use alternatives such as official/mnist/dataset.py from tensorflow/models.\n"
          ],
          "name": "stderr"
        },
        {
          "output_type": "stream",
          "text": [
            "Successfully downloaded t10k-labels-idx1-ubyte.gz 4542 bytes.\n",
            "Extracting mnist-data/t10k-labels-idx1-ubyte.gz\n"
          ],
          "name": "stdout"
        }
      ]
    },
    {
      "cell_type": "code",
      "metadata": {
        "id": "QxerjU-2Piyw",
        "colab_type": "code",
        "outputId": "27b48635-e711-4d7c-99e0-f6074dbf05b0",
        "colab": {
          "base_uri": "https://localhost:8080/",
          "height": 34
        }
      },
      "source": [
        "type(mnist)"
      ],
      "execution_count": 34,
      "outputs": [
        {
          "output_type": "execute_result",
          "data": {
            "text/plain": [
              "tensorflow.contrib.learn.python.learn.datasets.base.Datasets"
            ]
          },
          "metadata": {
            "tags": []
          },
          "execution_count": 34
        }
      ]
    },
    {
      "cell_type": "code",
      "metadata": {
        "id": "XScXCDoVPuSt",
        "colab_type": "code",
        "outputId": "f6863069-efbc-4912-d6b9-4bafc4a0490e",
        "colab": {
          "base_uri": "https://localhost:8080/",
          "height": 34
        }
      },
      "source": [
        "mnist.train.images.shape"
      ],
      "execution_count": 35,
      "outputs": [
        {
          "output_type": "execute_result",
          "data": {
            "text/plain": [
              "(55000, 784)"
            ]
          },
          "metadata": {
            "tags": []
          },
          "execution_count": 35
        }
      ]
    },
    {
      "cell_type": "code",
      "metadata": {
        "id": "Adg-hwu5P5SC",
        "colab_type": "code",
        "outputId": "8b40595b-b408-4451-ce97-04c3bcd437ed",
        "colab": {
          "base_uri": "https://localhost:8080/",
          "height": 34
        }
      },
      "source": [
        "mnist.train.num_examples"
      ],
      "execution_count": 36,
      "outputs": [
        {
          "output_type": "execute_result",
          "data": {
            "text/plain": [
              "55000"
            ]
          },
          "metadata": {
            "tags": []
          },
          "execution_count": 36
        }
      ]
    },
    {
      "cell_type": "code",
      "metadata": {
        "id": "wwNsv_eYQChZ",
        "colab_type": "code",
        "outputId": "c7f7b0c7-064d-4bda-bb2e-a3d4f082b648",
        "colab": {
          "base_uri": "https://localhost:8080/",
          "height": 34
        }
      },
      "source": [
        "mnist.test.num_examples"
      ],
      "execution_count": 37,
      "outputs": [
        {
          "output_type": "execute_result",
          "data": {
            "text/plain": [
              "10000"
            ]
          },
          "metadata": {
            "tags": []
          },
          "execution_count": 37
        }
      ]
    },
    {
      "cell_type": "code",
      "metadata": {
        "id": "EanIT1qcRBP4",
        "colab_type": "code",
        "colab": {}
      },
      "source": [
        "import matplotlib.pyplot as plt\n",
        "%matplotlib inline"
      ],
      "execution_count": 0,
      "outputs": []
    },
    {
      "cell_type": "code",
      "metadata": {
        "id": "uxA2vutCROFb",
        "colab_type": "code",
        "outputId": "7e1ca37d-98d6-400b-c19a-65d2ff5e835b",
        "colab": {
          "base_uri": "https://localhost:8080/",
          "height": 1000
        }
      },
      "source": [
        " mnist.train.images[0]"
      ],
      "execution_count": 39,
      "outputs": [
        {
          "output_type": "execute_result",
          "data": {
            "text/plain": [
              "array([0.        , 0.        , 0.        , 0.        , 0.        ,\n",
              "       0.        , 0.        , 0.        , 0.        , 0.        ,\n",
              "       0.        , 0.        , 0.        , 0.        , 0.        ,\n",
              "       0.        , 0.        , 0.        , 0.        , 0.        ,\n",
              "       0.        , 0.        , 0.        , 0.        , 0.        ,\n",
              "       0.        , 0.        , 0.        , 0.        , 0.        ,\n",
              "       0.        , 0.        , 0.        , 0.        , 0.        ,\n",
              "       0.        , 0.        , 0.        , 0.        , 0.        ,\n",
              "       0.        , 0.        , 0.        , 0.        , 0.        ,\n",
              "       0.        , 0.        , 0.        , 0.        , 0.        ,\n",
              "       0.        , 0.        , 0.        , 0.        , 0.        ,\n",
              "       0.        , 0.        , 0.        , 0.        , 0.        ,\n",
              "       0.        , 0.        , 0.        , 0.        , 0.        ,\n",
              "       0.        , 0.        , 0.        , 0.        , 0.        ,\n",
              "       0.        , 0.        , 0.        , 0.        , 0.        ,\n",
              "       0.        , 0.        , 0.        , 0.        , 0.        ,\n",
              "       0.        , 0.        , 0.        , 0.        , 0.        ,\n",
              "       0.        , 0.        , 0.        , 0.        , 0.        ,\n",
              "       0.        , 0.        , 0.        , 0.        , 0.        ,\n",
              "       0.        , 0.        , 0.        , 0.        , 0.        ,\n",
              "       0.        , 0.        , 0.        , 0.        , 0.        ,\n",
              "       0.        , 0.        , 0.        , 0.        , 0.        ,\n",
              "       0.        , 0.        , 0.        , 0.        , 0.        ,\n",
              "       0.        , 0.        , 0.        , 0.        , 0.        ,\n",
              "       0.        , 0.        , 0.        , 0.        , 0.        ,\n",
              "       0.        , 0.        , 0.        , 0.        , 0.        ,\n",
              "       0.        , 0.        , 0.        , 0.        , 0.        ,\n",
              "       0.        , 0.        , 0.        , 0.        , 0.        ,\n",
              "       0.        , 0.        , 0.        , 0.        , 0.        ,\n",
              "       0.        , 0.        , 0.        , 0.        , 0.        ,\n",
              "       0.        , 0.        , 0.        , 0.        , 0.        ,\n",
              "       0.        , 0.        , 0.        , 0.        , 0.        ,\n",
              "       0.        , 0.        , 0.        , 0.        , 0.        ,\n",
              "       0.        , 0.        , 0.        , 0.        , 0.        ,\n",
              "       0.        , 0.        , 0.        , 0.        , 0.        ,\n",
              "       0.        , 0.        , 0.        , 0.        , 0.        ,\n",
              "       0.        , 0.        , 0.        , 0.        , 0.        ,\n",
              "       0.        , 0.        , 0.        , 0.        , 0.        ,\n",
              "       0.        , 0.        , 0.        , 0.        , 0.        ,\n",
              "       0.        , 0.        , 0.        , 0.        , 0.        ,\n",
              "       0.        , 0.        , 0.        , 0.        , 0.        ,\n",
              "       0.        , 0.        , 0.3803922 , 0.37647063, 0.3019608 ,\n",
              "       0.46274513, 0.2392157 , 0.        , 0.        , 0.        ,\n",
              "       0.        , 0.        , 0.        , 0.        , 0.        ,\n",
              "       0.        , 0.        , 0.        , 0.        , 0.        ,\n",
              "       0.        , 0.        , 0.3529412 , 0.5411765 , 0.9215687 ,\n",
              "       0.9215687 , 0.9215687 , 0.9215687 , 0.9215687 , 0.9215687 ,\n",
              "       0.9843138 , 0.9843138 , 0.9725491 , 0.9960785 , 0.9607844 ,\n",
              "       0.9215687 , 0.74509805, 0.08235294, 0.        , 0.        ,\n",
              "       0.        , 0.        , 0.        , 0.        , 0.        ,\n",
              "       0.        , 0.        , 0.        , 0.        , 0.54901963,\n",
              "       0.9843138 , 0.9960785 , 0.9960785 , 0.9960785 , 0.9960785 ,\n",
              "       0.9960785 , 0.9960785 , 0.9960785 , 0.9960785 , 0.9960785 ,\n",
              "       0.9960785 , 0.9960785 , 0.9960785 , 0.9960785 , 0.9960785 ,\n",
              "       0.7411765 , 0.09019608, 0.        , 0.        , 0.        ,\n",
              "       0.        , 0.        , 0.        , 0.        , 0.        ,\n",
              "       0.        , 0.        , 0.8862746 , 0.9960785 , 0.81568635,\n",
              "       0.7803922 , 0.7803922 , 0.7803922 , 0.7803922 , 0.54509807,\n",
              "       0.2392157 , 0.2392157 , 0.2392157 , 0.2392157 , 0.2392157 ,\n",
              "       0.5019608 , 0.8705883 , 0.9960785 , 0.9960785 , 0.7411765 ,\n",
              "       0.08235294, 0.        , 0.        , 0.        , 0.        ,\n",
              "       0.        , 0.        , 0.        , 0.        , 0.        ,\n",
              "       0.14901961, 0.32156864, 0.0509804 , 0.        , 0.        ,\n",
              "       0.        , 0.        , 0.        , 0.        , 0.        ,\n",
              "       0.        , 0.        , 0.        , 0.        , 0.13333334,\n",
              "       0.8352942 , 0.9960785 , 0.9960785 , 0.45098042, 0.        ,\n",
              "       0.        , 0.        , 0.        , 0.        , 0.        ,\n",
              "       0.        , 0.        , 0.        , 0.        , 0.        ,\n",
              "       0.        , 0.        , 0.        , 0.        , 0.        ,\n",
              "       0.        , 0.        , 0.        , 0.        , 0.        ,\n",
              "       0.        , 0.        , 0.        , 0.32941177, 0.9960785 ,\n",
              "       0.9960785 , 0.9176471 , 0.        , 0.        , 0.        ,\n",
              "       0.        , 0.        , 0.        , 0.        , 0.        ,\n",
              "       0.        , 0.        , 0.        , 0.        , 0.        ,\n",
              "       0.        , 0.        , 0.        , 0.        , 0.        ,\n",
              "       0.        , 0.        , 0.        , 0.        , 0.        ,\n",
              "       0.        , 0.32941177, 0.9960785 , 0.9960785 , 0.9176471 ,\n",
              "       0.        , 0.        , 0.        , 0.        , 0.        ,\n",
              "       0.        , 0.        , 0.        , 0.        , 0.        ,\n",
              "       0.        , 0.        , 0.        , 0.        , 0.        ,\n",
              "       0.        , 0.        , 0.        , 0.        , 0.        ,\n",
              "       0.        , 0.        , 0.        , 0.4156863 , 0.6156863 ,\n",
              "       0.9960785 , 0.9960785 , 0.95294124, 0.20000002, 0.        ,\n",
              "       0.        , 0.        , 0.        , 0.        , 0.        ,\n",
              "       0.        , 0.        , 0.        , 0.        , 0.        ,\n",
              "       0.        , 0.        , 0.        , 0.        , 0.        ,\n",
              "       0.        , 0.09803922, 0.45882356, 0.8941177 , 0.8941177 ,\n",
              "       0.8941177 , 0.9921569 , 0.9960785 , 0.9960785 , 0.9960785 ,\n",
              "       0.9960785 , 0.94117653, 0.        , 0.        , 0.        ,\n",
              "       0.        , 0.        , 0.        , 0.        , 0.        ,\n",
              "       0.        , 0.        , 0.        , 0.        , 0.        ,\n",
              "       0.        , 0.        , 0.26666668, 0.4666667 , 0.86274517,\n",
              "       0.9960785 , 0.9960785 , 0.9960785 , 0.9960785 , 0.9960785 ,\n",
              "       0.9960785 , 0.9960785 , 0.9960785 , 0.9960785 , 0.5568628 ,\n",
              "       0.        , 0.        , 0.        , 0.        , 0.        ,\n",
              "       0.        , 0.        , 0.        , 0.        , 0.        ,\n",
              "       0.        , 0.        , 0.        , 0.14509805, 0.73333335,\n",
              "       0.9921569 , 0.9960785 , 0.9960785 , 0.9960785 , 0.8745099 ,\n",
              "       0.8078432 , 0.8078432 , 0.29411766, 0.26666668, 0.8431373 ,\n",
              "       0.9960785 , 0.9960785 , 0.45882356, 0.        , 0.        ,\n",
              "       0.        , 0.        , 0.        , 0.        , 0.        ,\n",
              "       0.        , 0.        , 0.        , 0.        , 0.        ,\n",
              "       0.4431373 , 0.8588236 , 0.9960785 , 0.9490197 , 0.89019614,\n",
              "       0.45098042, 0.34901962, 0.12156864, 0.        , 0.        ,\n",
              "       0.        , 0.        , 0.7843138 , 0.9960785 , 0.9450981 ,\n",
              "       0.16078432, 0.        , 0.        , 0.        , 0.        ,\n",
              "       0.        , 0.        , 0.        , 0.        , 0.        ,\n",
              "       0.        , 0.        , 0.        , 0.6627451 , 0.9960785 ,\n",
              "       0.6901961 , 0.24313727, 0.        , 0.        , 0.        ,\n",
              "       0.        , 0.        , 0.        , 0.        , 0.18823531,\n",
              "       0.9058824 , 0.9960785 , 0.9176471 , 0.        , 0.        ,\n",
              "       0.        , 0.        , 0.        , 0.        , 0.        ,\n",
              "       0.        , 0.        , 0.        , 0.        , 0.        ,\n",
              "       0.        , 0.07058824, 0.48627454, 0.        , 0.        ,\n",
              "       0.        , 0.        , 0.        , 0.        , 0.        ,\n",
              "       0.        , 0.        , 0.32941177, 0.9960785 , 0.9960785 ,\n",
              "       0.6509804 , 0.        , 0.        , 0.        , 0.        ,\n",
              "       0.        , 0.        , 0.        , 0.        , 0.        ,\n",
              "       0.        , 0.        , 0.        , 0.        , 0.        ,\n",
              "       0.        , 0.        , 0.        , 0.        , 0.        ,\n",
              "       0.        , 0.        , 0.        , 0.        , 0.        ,\n",
              "       0.54509807, 0.9960785 , 0.9333334 , 0.22352943, 0.        ,\n",
              "       0.        , 0.        , 0.        , 0.        , 0.        ,\n",
              "       0.        , 0.        , 0.        , 0.        , 0.        ,\n",
              "       0.        , 0.        , 0.        , 0.        , 0.        ,\n",
              "       0.        , 0.        , 0.        , 0.        , 0.        ,\n",
              "       0.        , 0.        , 0.8235295 , 0.9803922 , 0.9960785 ,\n",
              "       0.65882355, 0.        , 0.        , 0.        , 0.        ,\n",
              "       0.        , 0.        , 0.        , 0.        , 0.        ,\n",
              "       0.        , 0.        , 0.        , 0.        , 0.        ,\n",
              "       0.        , 0.        , 0.        , 0.        , 0.        ,\n",
              "       0.        , 0.        , 0.        , 0.        , 0.        ,\n",
              "       0.9490197 , 0.9960785 , 0.93725497, 0.22352943, 0.        ,\n",
              "       0.        , 0.        , 0.        , 0.        , 0.        ,\n",
              "       0.        , 0.        , 0.        , 0.        , 0.        ,\n",
              "       0.        , 0.        , 0.        , 0.        , 0.        ,\n",
              "       0.        , 0.        , 0.        , 0.        , 0.        ,\n",
              "       0.        , 0.        , 0.34901962, 0.9843138 , 0.9450981 ,\n",
              "       0.3372549 , 0.        , 0.        , 0.        , 0.        ,\n",
              "       0.        , 0.        , 0.        , 0.        , 0.        ,\n",
              "       0.        , 0.        , 0.        , 0.        , 0.        ,\n",
              "       0.        , 0.        , 0.        , 0.        , 0.        ,\n",
              "       0.        , 0.        , 0.        , 0.        , 0.01960784,\n",
              "       0.8078432 , 0.96470594, 0.6156863 , 0.        , 0.        ,\n",
              "       0.        , 0.        , 0.        , 0.        , 0.        ,\n",
              "       0.        , 0.        , 0.        , 0.        , 0.        ,\n",
              "       0.        , 0.        , 0.        , 0.        , 0.        ,\n",
              "       0.        , 0.        , 0.        , 0.        , 0.        ,\n",
              "       0.        , 0.        , 0.01568628, 0.45882356, 0.27058825,\n",
              "       0.        , 0.        , 0.        , 0.        , 0.        ,\n",
              "       0.        , 0.        , 0.        , 0.        , 0.        ,\n",
              "       0.        , 0.        , 0.        , 0.        , 0.        ,\n",
              "       0.        , 0.        , 0.        , 0.        , 0.        ,\n",
              "       0.        , 0.        , 0.        , 0.        , 0.        ,\n",
              "       0.        , 0.        , 0.        , 0.        , 0.        ,\n",
              "       0.        , 0.        , 0.        , 0.        , 0.        ,\n",
              "       0.        , 0.        , 0.        , 0.        ], dtype=float32)"
            ]
          },
          "metadata": {
            "tags": []
          },
          "execution_count": 39
        }
      ]
    },
    {
      "cell_type": "code",
      "metadata": {
        "id": "uxY4xqkLSDgX",
        "colab_type": "code",
        "outputId": "d1d5f1e4-a361-433e-e8b7-cb90b8864c62",
        "colab": {
          "base_uri": "https://localhost:8080/",
          "height": 34
        }
      },
      "source": [
        "mnist.train.images[0].shape"
      ],
      "execution_count": 40,
      "outputs": [
        {
          "output_type": "execute_result",
          "data": {
            "text/plain": [
              "(784,)"
            ]
          },
          "metadata": {
            "tags": []
          },
          "execution_count": 40
        }
      ]
    },
    {
      "cell_type": "code",
      "metadata": {
        "id": "e_I8hGXZSKPB",
        "colab_type": "code",
        "outputId": "75ef162a-1912-43bc-a8d7-286245ac4801",
        "colab": {
          "base_uri": "https://localhost:8080/",
          "height": 1000
        }
      },
      "source": [
        "mnist.train.images[0].reshape(28,28)"
      ],
      "execution_count": 41,
      "outputs": [
        {
          "output_type": "execute_result",
          "data": {
            "text/plain": [
              "array([[0.        , 0.        , 0.        , 0.        , 0.        ,\n",
              "        0.        , 0.        , 0.        , 0.        , 0.        ,\n",
              "        0.        , 0.        , 0.        , 0.        , 0.        ,\n",
              "        0.        , 0.        , 0.        , 0.        , 0.        ,\n",
              "        0.        , 0.        , 0.        , 0.        , 0.        ,\n",
              "        0.        , 0.        , 0.        ],\n",
              "       [0.        , 0.        , 0.        , 0.        , 0.        ,\n",
              "        0.        , 0.        , 0.        , 0.        , 0.        ,\n",
              "        0.        , 0.        , 0.        , 0.        , 0.        ,\n",
              "        0.        , 0.        , 0.        , 0.        , 0.        ,\n",
              "        0.        , 0.        , 0.        , 0.        , 0.        ,\n",
              "        0.        , 0.        , 0.        ],\n",
              "       [0.        , 0.        , 0.        , 0.        , 0.        ,\n",
              "        0.        , 0.        , 0.        , 0.        , 0.        ,\n",
              "        0.        , 0.        , 0.        , 0.        , 0.        ,\n",
              "        0.        , 0.        , 0.        , 0.        , 0.        ,\n",
              "        0.        , 0.        , 0.        , 0.        , 0.        ,\n",
              "        0.        , 0.        , 0.        ],\n",
              "       [0.        , 0.        , 0.        , 0.        , 0.        ,\n",
              "        0.        , 0.        , 0.        , 0.        , 0.        ,\n",
              "        0.        , 0.        , 0.        , 0.        , 0.        ,\n",
              "        0.        , 0.        , 0.        , 0.        , 0.        ,\n",
              "        0.        , 0.        , 0.        , 0.        , 0.        ,\n",
              "        0.        , 0.        , 0.        ],\n",
              "       [0.        , 0.        , 0.        , 0.        , 0.        ,\n",
              "        0.        , 0.        , 0.        , 0.        , 0.        ,\n",
              "        0.        , 0.        , 0.        , 0.        , 0.        ,\n",
              "        0.        , 0.        , 0.        , 0.        , 0.        ,\n",
              "        0.        , 0.        , 0.        , 0.        , 0.        ,\n",
              "        0.        , 0.        , 0.        ],\n",
              "       [0.        , 0.        , 0.        , 0.        , 0.        ,\n",
              "        0.        , 0.        , 0.        , 0.        , 0.        ,\n",
              "        0.        , 0.        , 0.        , 0.        , 0.        ,\n",
              "        0.        , 0.        , 0.        , 0.        , 0.        ,\n",
              "        0.        , 0.        , 0.        , 0.        , 0.        ,\n",
              "        0.        , 0.        , 0.        ],\n",
              "       [0.        , 0.        , 0.        , 0.        , 0.        ,\n",
              "        0.        , 0.        , 0.        , 0.        , 0.        ,\n",
              "        0.        , 0.        , 0.        , 0.        , 0.        ,\n",
              "        0.        , 0.        , 0.        , 0.        , 0.        ,\n",
              "        0.        , 0.        , 0.        , 0.        , 0.        ,\n",
              "        0.        , 0.        , 0.        ],\n",
              "       [0.        , 0.        , 0.        , 0.        , 0.        ,\n",
              "        0.        , 0.        , 0.        , 0.        , 0.        ,\n",
              "        0.        , 0.3803922 , 0.37647063, 0.3019608 , 0.46274513,\n",
              "        0.2392157 , 0.        , 0.        , 0.        , 0.        ,\n",
              "        0.        , 0.        , 0.        , 0.        , 0.        ,\n",
              "        0.        , 0.        , 0.        ],\n",
              "       [0.        , 0.        , 0.        , 0.3529412 , 0.5411765 ,\n",
              "        0.9215687 , 0.9215687 , 0.9215687 , 0.9215687 , 0.9215687 ,\n",
              "        0.9215687 , 0.9843138 , 0.9843138 , 0.9725491 , 0.9960785 ,\n",
              "        0.9607844 , 0.9215687 , 0.74509805, 0.08235294, 0.        ,\n",
              "        0.        , 0.        , 0.        , 0.        , 0.        ,\n",
              "        0.        , 0.        , 0.        ],\n",
              "       [0.        , 0.        , 0.54901963, 0.9843138 , 0.9960785 ,\n",
              "        0.9960785 , 0.9960785 , 0.9960785 , 0.9960785 , 0.9960785 ,\n",
              "        0.9960785 , 0.9960785 , 0.9960785 , 0.9960785 , 0.9960785 ,\n",
              "        0.9960785 , 0.9960785 , 0.9960785 , 0.7411765 , 0.09019608,\n",
              "        0.        , 0.        , 0.        , 0.        , 0.        ,\n",
              "        0.        , 0.        , 0.        ],\n",
              "       [0.        , 0.        , 0.8862746 , 0.9960785 , 0.81568635,\n",
              "        0.7803922 , 0.7803922 , 0.7803922 , 0.7803922 , 0.54509807,\n",
              "        0.2392157 , 0.2392157 , 0.2392157 , 0.2392157 , 0.2392157 ,\n",
              "        0.5019608 , 0.8705883 , 0.9960785 , 0.9960785 , 0.7411765 ,\n",
              "        0.08235294, 0.        , 0.        , 0.        , 0.        ,\n",
              "        0.        , 0.        , 0.        ],\n",
              "       [0.        , 0.        , 0.14901961, 0.32156864, 0.0509804 ,\n",
              "        0.        , 0.        , 0.        , 0.        , 0.        ,\n",
              "        0.        , 0.        , 0.        , 0.        , 0.        ,\n",
              "        0.        , 0.13333334, 0.8352942 , 0.9960785 , 0.9960785 ,\n",
              "        0.45098042, 0.        , 0.        , 0.        , 0.        ,\n",
              "        0.        , 0.        , 0.        ],\n",
              "       [0.        , 0.        , 0.        , 0.        , 0.        ,\n",
              "        0.        , 0.        , 0.        , 0.        , 0.        ,\n",
              "        0.        , 0.        , 0.        , 0.        , 0.        ,\n",
              "        0.        , 0.        , 0.32941177, 0.9960785 , 0.9960785 ,\n",
              "        0.9176471 , 0.        , 0.        , 0.        , 0.        ,\n",
              "        0.        , 0.        , 0.        ],\n",
              "       [0.        , 0.        , 0.        , 0.        , 0.        ,\n",
              "        0.        , 0.        , 0.        , 0.        , 0.        ,\n",
              "        0.        , 0.        , 0.        , 0.        , 0.        ,\n",
              "        0.        , 0.        , 0.32941177, 0.9960785 , 0.9960785 ,\n",
              "        0.9176471 , 0.        , 0.        , 0.        , 0.        ,\n",
              "        0.        , 0.        , 0.        ],\n",
              "       [0.        , 0.        , 0.        , 0.        , 0.        ,\n",
              "        0.        , 0.        , 0.        , 0.        , 0.        ,\n",
              "        0.        , 0.        , 0.        , 0.        , 0.        ,\n",
              "        0.        , 0.4156863 , 0.6156863 , 0.9960785 , 0.9960785 ,\n",
              "        0.95294124, 0.20000002, 0.        , 0.        , 0.        ,\n",
              "        0.        , 0.        , 0.        ],\n",
              "       [0.        , 0.        , 0.        , 0.        , 0.        ,\n",
              "        0.        , 0.        , 0.        , 0.        , 0.        ,\n",
              "        0.        , 0.09803922, 0.45882356, 0.8941177 , 0.8941177 ,\n",
              "        0.8941177 , 0.9921569 , 0.9960785 , 0.9960785 , 0.9960785 ,\n",
              "        0.9960785 , 0.94117653, 0.        , 0.        , 0.        ,\n",
              "        0.        , 0.        , 0.        ],\n",
              "       [0.        , 0.        , 0.        , 0.        , 0.        ,\n",
              "        0.        , 0.        , 0.        , 0.        , 0.26666668,\n",
              "        0.4666667 , 0.86274517, 0.9960785 , 0.9960785 , 0.9960785 ,\n",
              "        0.9960785 , 0.9960785 , 0.9960785 , 0.9960785 , 0.9960785 ,\n",
              "        0.9960785 , 0.5568628 , 0.        , 0.        , 0.        ,\n",
              "        0.        , 0.        , 0.        ],\n",
              "       [0.        , 0.        , 0.        , 0.        , 0.        ,\n",
              "        0.        , 0.        , 0.14509805, 0.73333335, 0.9921569 ,\n",
              "        0.9960785 , 0.9960785 , 0.9960785 , 0.8745099 , 0.8078432 ,\n",
              "        0.8078432 , 0.29411766, 0.26666668, 0.8431373 , 0.9960785 ,\n",
              "        0.9960785 , 0.45882356, 0.        , 0.        , 0.        ,\n",
              "        0.        , 0.        , 0.        ],\n",
              "       [0.        , 0.        , 0.        , 0.        , 0.        ,\n",
              "        0.        , 0.4431373 , 0.8588236 , 0.9960785 , 0.9490197 ,\n",
              "        0.89019614, 0.45098042, 0.34901962, 0.12156864, 0.        ,\n",
              "        0.        , 0.        , 0.        , 0.7843138 , 0.9960785 ,\n",
              "        0.9450981 , 0.16078432, 0.        , 0.        , 0.        ,\n",
              "        0.        , 0.        , 0.        ],\n",
              "       [0.        , 0.        , 0.        , 0.        , 0.        ,\n",
              "        0.        , 0.6627451 , 0.9960785 , 0.6901961 , 0.24313727,\n",
              "        0.        , 0.        , 0.        , 0.        , 0.        ,\n",
              "        0.        , 0.        , 0.18823531, 0.9058824 , 0.9960785 ,\n",
              "        0.9176471 , 0.        , 0.        , 0.        , 0.        ,\n",
              "        0.        , 0.        , 0.        ],\n",
              "       [0.        , 0.        , 0.        , 0.        , 0.        ,\n",
              "        0.        , 0.07058824, 0.48627454, 0.        , 0.        ,\n",
              "        0.        , 0.        , 0.        , 0.        , 0.        ,\n",
              "        0.        , 0.        , 0.32941177, 0.9960785 , 0.9960785 ,\n",
              "        0.6509804 , 0.        , 0.        , 0.        , 0.        ,\n",
              "        0.        , 0.        , 0.        ],\n",
              "       [0.        , 0.        , 0.        , 0.        , 0.        ,\n",
              "        0.        , 0.        , 0.        , 0.        , 0.        ,\n",
              "        0.        , 0.        , 0.        , 0.        , 0.        ,\n",
              "        0.        , 0.        , 0.54509807, 0.9960785 , 0.9333334 ,\n",
              "        0.22352943, 0.        , 0.        , 0.        , 0.        ,\n",
              "        0.        , 0.        , 0.        ],\n",
              "       [0.        , 0.        , 0.        , 0.        , 0.        ,\n",
              "        0.        , 0.        , 0.        , 0.        , 0.        ,\n",
              "        0.        , 0.        , 0.        , 0.        , 0.        ,\n",
              "        0.        , 0.8235295 , 0.9803922 , 0.9960785 , 0.65882355,\n",
              "        0.        , 0.        , 0.        , 0.        , 0.        ,\n",
              "        0.        , 0.        , 0.        ],\n",
              "       [0.        , 0.        , 0.        , 0.        , 0.        ,\n",
              "        0.        , 0.        , 0.        , 0.        , 0.        ,\n",
              "        0.        , 0.        , 0.        , 0.        , 0.        ,\n",
              "        0.        , 0.9490197 , 0.9960785 , 0.93725497, 0.22352943,\n",
              "        0.        , 0.        , 0.        , 0.        , 0.        ,\n",
              "        0.        , 0.        , 0.        ],\n",
              "       [0.        , 0.        , 0.        , 0.        , 0.        ,\n",
              "        0.        , 0.        , 0.        , 0.        , 0.        ,\n",
              "        0.        , 0.        , 0.        , 0.        , 0.        ,\n",
              "        0.34901962, 0.9843138 , 0.9450981 , 0.3372549 , 0.        ,\n",
              "        0.        , 0.        , 0.        , 0.        , 0.        ,\n",
              "        0.        , 0.        , 0.        ],\n",
              "       [0.        , 0.        , 0.        , 0.        , 0.        ,\n",
              "        0.        , 0.        , 0.        , 0.        , 0.        ,\n",
              "        0.        , 0.        , 0.        , 0.        , 0.01960784,\n",
              "        0.8078432 , 0.96470594, 0.6156863 , 0.        , 0.        ,\n",
              "        0.        , 0.        , 0.        , 0.        , 0.        ,\n",
              "        0.        , 0.        , 0.        ],\n",
              "       [0.        , 0.        , 0.        , 0.        , 0.        ,\n",
              "        0.        , 0.        , 0.        , 0.        , 0.        ,\n",
              "        0.        , 0.        , 0.        , 0.        , 0.01568628,\n",
              "        0.45882356, 0.27058825, 0.        , 0.        , 0.        ,\n",
              "        0.        , 0.        , 0.        , 0.        , 0.        ,\n",
              "        0.        , 0.        , 0.        ],\n",
              "       [0.        , 0.        , 0.        , 0.        , 0.        ,\n",
              "        0.        , 0.        , 0.        , 0.        , 0.        ,\n",
              "        0.        , 0.        , 0.        , 0.        , 0.        ,\n",
              "        0.        , 0.        , 0.        , 0.        , 0.        ,\n",
              "        0.        , 0.        , 0.        , 0.        , 0.        ,\n",
              "        0.        , 0.        , 0.        ]], dtype=float32)"
            ]
          },
          "metadata": {
            "tags": []
          },
          "execution_count": 41
        }
      ]
    },
    {
      "cell_type": "code",
      "metadata": {
        "id": "DCXa_g0pSXmo",
        "colab_type": "code",
        "outputId": "7a56db5d-c4ae-49ee-f3a8-c9c0774fdda5",
        "colab": {
          "base_uri": "https://localhost:8080/",
          "height": 286
        }
      },
      "source": [
        "plt.imshow(mnist.train.images[0].reshape(28,28))"
      ],
      "execution_count": 42,
      "outputs": [
        {
          "output_type": "execute_result",
          "data": {
            "text/plain": [
              "<matplotlib.image.AxesImage at 0x7f8e8fb2e668>"
            ]
          },
          "metadata": {
            "tags": []
          },
          "execution_count": 42
        },
        {
          "output_type": "display_data",
          "data": {
            "image/png": "[encoded data removed]",
            "text/plain": [
              "<Figure size 432x288 with 1 Axes>"
            ]
          },
          "metadata": {
            "tags": []
          }
        }
      ]
    },
    {
      "cell_type": "code",
      "metadata": {
        "id": "SMqsfypvSvHl",
        "colab_type": "code",
        "outputId": "f4c5cd5e-067c-48ce-dd8b-ac586a89eb4e",
        "colab": {
          "base_uri": "https://localhost:8080/",
          "height": 286
        }
      },
      "source": [
        "plt.imshow(mnist.train.images[0].reshape(784,1),aspect=0.01)"
      ],
      "execution_count": 43,
      "outputs": [
        {
          "output_type": "execute_result",
          "data": {
            "text/plain": [
              "<matplotlib.image.AxesImage at 0x7f8e8f91fcc0>"
            ]
          },
          "metadata": {
            "tags": []
          },
          "execution_count": 43
        },
        {
          "output_type": "display_data",
          "data": {
            "image/png": "[encoded data removed]",
            "text/plain": [
              "<Figure size 432x288 with 1 Axes>"
            ]
          },
          "metadata": {
            "tags": []
          }
        }
      ]
    },
    {
      "cell_type": "code",
      "metadata": {
        "id": "ZJK__dHkTWkU",
        "colab_type": "code",
        "colab": {}
      },
      "source": [
        "x = tf.placeholder(tf.float32, shape=[None, 784])"
      ],
      "execution_count": 0,
      "outputs": []
    },
    {
      "cell_type": "code",
      "metadata": {
        "id": "YgxCRXPzxhgN",
        "colab_type": "code",
        "colab": {}
      },
      "source": [
        "W = tf.Variable(tf.zeros(shape=[784, 10])) #as 10 classes of objects is there"
      ],
      "execution_count": 0,
      "outputs": []
    },
    {
      "cell_type": "code",
      "metadata": {
        "id": "swbMbp2eyO9m",
        "colab_type": "code",
        "colab": {}
      },
      "source": [
        "\n",
        "\n",
        "b = tf.Variable(tf.zeros([10]))"
      ],
      "execution_count": 0,
      "outputs": []
    },
    {
      "cell_type": "code",
      "metadata": {
        "id": "lZS5Z6cuyfr9",
        "colab_type": "code",
        "colab": {}
      },
      "source": [
        "y = tf.matmul(x,W) + b"
      ],
      "execution_count": 0,
      "outputs": []
    },
    {
      "cell_type": "code",
      "metadata": {
        "id": "HnyDRkzQy2sy",
        "colab_type": "code",
        "colab": {}
      },
      "source": [
        "y_true = tf.placeholder(tf.float32, shape=[None, 10])"
      ],
      "execution_count": 0,
      "outputs": []
    },
    {
      "cell_type": "code",
      "metadata": {
        "id": "fBybzlZwzcB0",
        "colab_type": "code",
        "colab": {}
      },
      "source": [
        "cross_entropy = tf.reduce_mean(tf.nn.softmax_cross_entropy_with_logits_v2(labels = y_true, logits = y))"
      ],
      "execution_count": 0,
      "outputs": []
    },
    {
      "cell_type": "code",
      "metadata": {
        "id": "jS_8InZW0yfh",
        "colab_type": "code",
        "colab": {}
      },
      "source": [
        "optimizer = tf.train.GradientDescentOptimizer(learning_rate=0.5)"
      ],
      "execution_count": 0,
      "outputs": []
    },
    {
      "cell_type": "code",
      "metadata": {
        "id": "cpOEflC91gku",
        "colab_type": "code",
        "colab": {}
      },
      "source": [
        "\n",
        "train = optimizer.minimize(cross_entropy)"
      ],
      "execution_count": 0,
      "outputs": []
    },
    {
      "cell_type": "code",
      "metadata": {
        "id": "NQ7L0pAo1wPk",
        "colab_type": "code",
        "colab": {}
      },
      "source": [
        "init = tf.global_variables_initializer()\n"
      ],
      "execution_count": 0,
      "outputs": []
    },
    {
      "cell_type": "code",
      "metadata": {
        "id": "bAKAV3iA19dt",
        "colab_type": "code",
        "outputId": "15b3f70f-b959-477e-cb3c-782ad3752628",
        "colab": {
          "base_uri": "https://localhost:8080/",
          "height": 34
        }
      },
      "source": [
        "with tf.Session() as sess:\n",
        "  sess.run(init)\n",
        "  for step in range(1000):\n",
        "    batch_x, batch_y = mnist.train.next_batch(100)\n",
        "    sess.run(train, feed_dict={x:batch_x, y_true:batch_y})\n",
        "  matches = tf.equal(tf.argmax(y,1), tf.argmax(y_true,1))  \n",
        "  acc = tf.reduce_mean(tf.cast(matches, tf.float32))\n",
        "  print(sess.run(acc,feed_dict={x:mnist.test.images, y_true:mnist.test.labels}))"
      ],
      "execution_count": 53,
      "outputs": [
        {
          "output_type": "stream",
          "text": [
            "0.9175\n"
          ],
          "name": "stdout"
        }
      ]
    },
    {
      "cell_type": "code",
      "metadata": {
        "id": "qkca4R9ZE371",
        "colab_type": "code",
        "colab": {}
      },
      "source": [
        "\n",
        "# Via TF Estimators"
      ],
      "execution_count": 0,
      "outputs": []
    },
    {
      "cell_type": "code",
      "metadata": {
        "id": "XjmqJ7zjGXhI",
        "colab_type": "code",
        "colab": {}
      },
      "source": [
        "import pandas as pd"
      ],
      "execution_count": 0,
      "outputs": []
    },
    {
      "cell_type": "code",
      "metadata": {
        "id": "Vt3aC8lyGq1C",
        "colab_type": "code",
        "colab": {}
      },
      "source": [
        "\n",
        "df = pd.read_csv('IRIS.csv')"
      ],
      "execution_count": 0,
      "outputs": []
    },
    {
      "cell_type": "code",
      "metadata": {
        "id": "NE1nh82DHB2u",
        "colab_type": "code",
        "outputId": "5efb94c5-b65f-4a08-f796-2481f73cfdbb",
        "colab": {
          "base_uri": "https://localhost:8080/",
          "height": 195
        }
      },
      "source": [
        "df.head()"
      ],
      "execution_count": 9,
      "outputs": [
        {
          "output_type": "execute_result",
          "data": {
            "text/html": [
              "<div>\n",
              "<style scoped>\n",
              "    .dataframe tbody tr th:only-of-type {\n",
              "        vertical-align: middle;\n",
              "    }\n",
              "\n",
              "    .dataframe tbody tr th {\n",
              "        vertical-align: top;\n",
              "    }\n",
              "\n",
              "    .dataframe thead th {\n",
              "        text-align: right;\n",
              "    }\n",
              "</style>\n",
              "<table border=\"1\" class=\"dataframe\">\n",
              "  <thead>\n",
              "    <tr style=\"text-align: right;\">\n",
              "      <th></th>\n",
              "      <th>sepal_length</th>\n",
              "      <th>sepal_width</th>\n",
              "      <th>petal_length</th>\n",
              "      <th>petal_width</th>\n",
              "      <th>species</th>\n",
              "    </tr>\n",
              "  </thead>\n",
              "  <tbody>\n",
              "    <tr>\n",
              "      <th>0</th>\n",
              "      <td>5.1</td>\n",
              "      <td>3.5</td>\n",
              "      <td>1.4</td>\n",
              "      <td>0.2</td>\n",
              "      <td>Iris-setosa</td>\n",
              "    </tr>\n",
              "    <tr>\n",
              "      <th>1</th>\n",
              "      <td>4.9</td>\n",
              "      <td>3.0</td>\n",
              "      <td>1.4</td>\n",
              "      <td>0.2</td>\n",
              "      <td>Iris-setosa</td>\n",
              "    </tr>\n",
              "    <tr>\n",
              "      <th>2</th>\n",
              "      <td>4.7</td>\n",
              "      <td>3.2</td>\n",
              "      <td>1.3</td>\n",
              "      <td>0.2</td>\n",
              "      <td>Iris-setosa</td>\n",
              "    </tr>\n",
              "    <tr>\n",
              "      <th>3</th>\n",
              "      <td>4.6</td>\n",
              "      <td>3.1</td>\n",
              "      <td>1.5</td>\n",
              "      <td>0.2</td>\n",
              "      <td>Iris-setosa</td>\n",
              "    </tr>\n",
              "    <tr>\n",
              "      <th>4</th>\n",
              "      <td>5.0</td>\n",
              "      <td>3.6</td>\n",
              "      <td>1.4</td>\n",
              "      <td>0.2</td>\n",
              "      <td>Iris-setosa</td>\n",
              "    </tr>\n",
              "  </tbody>\n",
              "</table>\n",
              "</div>"
            ],
            "text/plain": [
              "   sepal_length  sepal_width  petal_length  petal_width      species\n",
              "0           5.1          3.5           1.4          0.2  Iris-setosa\n",
              "1           4.9          3.0           1.4          0.2  Iris-setosa\n",
              "2           4.7          3.2           1.3          0.2  Iris-setosa\n",
              "3           4.6          3.1           1.5          0.2  Iris-setosa\n",
              "4           5.0          3.6           1.4          0.2  Iris-setosa"
            ]
          },
          "metadata": {
            "tags": []
          },
          "execution_count": 9
        }
      ]
    },
    {
      "cell_type": "code",
      "metadata": {
        "id": "P-kbYJo4Nf5f",
        "colab_type": "code",
        "outputId": "a390bf7e-8a78-468a-de9f-1aaced9c042e",
        "colab": {
          "base_uri": "https://localhost:8080/",
          "height": 34
        }
      },
      "source": [
        "df['species'].unique()"
      ],
      "execution_count": 10,
      "outputs": [
        {
          "output_type": "execute_result",
          "data": {
            "text/plain": [
              "array(['Iris-setosa', 'Iris-versicolor', 'Iris-virginica'], dtype=object)"
            ]
          },
          "metadata": {
            "tags": []
          },
          "execution_count": 10
        }
      ]
    },
    {
      "cell_type": "code",
      "metadata": {
        "id": "2wOdprPRNw5k",
        "colab_type": "code",
        "colab": {}
      },
      "source": [
        "def converter(species):\n",
        "  if species == 'Iris-setosa':\n",
        "    return 0\n",
        "  elif species == 'Iris-versicolor':\n",
        "    return 1\n",
        "  else:\n",
        "    return 2"
      ],
      "execution_count": 0,
      "outputs": []
    },
    {
      "cell_type": "code",
      "metadata": {
        "id": "Lkr3BG5aP6pU",
        "colab_type": "code",
        "colab": {}
      },
      "source": [
        "df['target'] = df['species'].apply(lambda x : converter(x))\n"
      ],
      "execution_count": 0,
      "outputs": []
    },
    {
      "cell_type": "code",
      "metadata": {
        "id": "Jt2uF2sXQP6h",
        "colab_type": "code",
        "colab": {}
      },
      "source": [
        "df.drop('species', axis=1, inplace=True)"
      ],
      "execution_count": 0,
      "outputs": []
    },
    {
      "cell_type": "code",
      "metadata": {
        "id": "yn6KFmGjQSjw",
        "colab_type": "code",
        "outputId": "2d22e71a-3524-4ae4-e3b1-a4d8773178d1",
        "colab": {
          "base_uri": "https://localhost:8080/",
          "height": 195
        }
      },
      "source": [
        "df.head()"
      ],
      "execution_count": 14,
      "outputs": [
        {
          "output_type": "execute_result",
          "data": {
            "text/html": [
              "<div>\n",
              "<style scoped>\n",
              "    .dataframe tbody tr th:only-of-type {\n",
              "        vertical-align: middle;\n",
              "    }\n",
              "\n",
              "    .dataframe tbody tr th {\n",
              "        vertical-align: top;\n",
              "    }\n",
              "\n",
              "    .dataframe thead th {\n",
              "        text-align: right;\n",
              "    }\n",
              "</style>\n",
              "<table border=\"1\" class=\"dataframe\">\n",
              "  <thead>\n",
              "    <tr style=\"text-align: right;\">\n",
              "      <th></th>\n",
              "      <th>sepal_length</th>\n",
              "      <th>sepal_width</th>\n",
              "      <th>petal_length</th>\n",
              "      <th>petal_width</th>\n",
              "      <th>target</th>\n",
              "    </tr>\n",
              "  </thead>\n",
              "  <tbody>\n",
              "    <tr>\n",
              "      <th>0</th>\n",
              "      <td>5.1</td>\n",
              "      <td>3.5</td>\n",
              "      <td>1.4</td>\n",
              "      <td>0.2</td>\n",
              "      <td>0</td>\n",
              "    </tr>\n",
              "    <tr>\n",
              "      <th>1</th>\n",
              "      <td>4.9</td>\n",
              "      <td>3.0</td>\n",
              "      <td>1.4</td>\n",
              "      <td>0.2</td>\n",
              "      <td>0</td>\n",
              "    </tr>\n",
              "    <tr>\n",
              "      <th>2</th>\n",
              "      <td>4.7</td>\n",
              "      <td>3.2</td>\n",
              "      <td>1.3</td>\n",
              "      <td>0.2</td>\n",
              "      <td>0</td>\n",
              "    </tr>\n",
              "    <tr>\n",
              "      <th>3</th>\n",
              "      <td>4.6</td>\n",
              "      <td>3.1</td>\n",
              "      <td>1.5</td>\n",
              "      <td>0.2</td>\n",
              "      <td>0</td>\n",
              "    </tr>\n",
              "    <tr>\n",
              "      <th>4</th>\n",
              "      <td>5.0</td>\n",
              "      <td>3.6</td>\n",
              "      <td>1.4</td>\n",
              "      <td>0.2</td>\n",
              "      <td>0</td>\n",
              "    </tr>\n",
              "  </tbody>\n",
              "</table>\n",
              "</div>"
            ],
            "text/plain": [
              "   sepal_length  sepal_width  petal_length  petal_width  target\n",
              "0           5.1          3.5           1.4          0.2       0\n",
              "1           4.9          3.0           1.4          0.2       0\n",
              "2           4.7          3.2           1.3          0.2       0\n",
              "3           4.6          3.1           1.5          0.2       0\n",
              "4           5.0          3.6           1.4          0.2       0"
            ]
          },
          "metadata": {
            "tags": []
          },
          "execution_count": 14
        }
      ]
    },
    {
      "cell_type": "code",
      "metadata": {
        "id": "scsrDqH-Qlys",
        "colab_type": "code",
        "colab": {}
      },
      "source": [
        "y = df['target'] "
      ],
      "execution_count": 0,
      "outputs": []
    },
    {
      "cell_type": "code",
      "metadata": {
        "id": "_gBwiPDwQxJ-",
        "colab_type": "code",
        "colab": {}
      },
      "source": [
        "X = df.drop('target', axis=1)"
      ],
      "execution_count": 0,
      "outputs": []
    },
    {
      "cell_type": "code",
      "metadata": {
        "id": "fx-FX0k1RITK",
        "colab_type": "code",
        "colab": {}
      },
      "source": [
        "from sklearn.model_selection import train_test_split"
      ],
      "execution_count": 0,
      "outputs": []
    },
    {
      "cell_type": "code",
      "metadata": {
        "id": "0KJa_l_RRPCz",
        "colab_type": "code",
        "colab": {}
      },
      "source": [
        "X_train, X_test, y_train, y_test = train_test_split(X, y, test_size=0.3)"
      ],
      "execution_count": 0,
      "outputs": []
    },
    {
      "cell_type": "code",
      "metadata": {
        "id": "pMpoBsT2RhPT",
        "colab_type": "code",
        "colab": {}
      },
      "source": [
        "#feature columns\n",
        "feat_columns = []\n",
        "for col in  X.columns:\n",
        "  feat_columns.append(tf.feature_column.numeric_column(col))"
      ],
      "execution_count": 0,
      "outputs": []
    },
    {
      "cell_type": "code",
      "metadata": {
        "id": "X8AIh4-xSqoC",
        "colab_type": "code",
        "outputId": "5be0b9bd-493d-4de7-f888-0faf682c2575",
        "colab": {
          "base_uri": "https://localhost:8080/",
          "height": 84
        }
      },
      "source": [
        "feat_columns\n"
      ],
      "execution_count": 20,
      "outputs": [
        {
          "output_type": "execute_result",
          "data": {
            "text/plain": [
              "[NumericColumn(key='sepal_length', shape=(1,), default_value=None, dtype=tf.float32, normalizer_fn=None),\n",
              " NumericColumn(key='sepal_width', shape=(1,), default_value=None, dtype=tf.float32, normalizer_fn=None),\n",
              " NumericColumn(key='petal_length', shape=(1,), default_value=None, dtype=tf.float32, normalizer_fn=None),\n",
              " NumericColumn(key='petal_width', shape=(1,), default_value=None, dtype=tf.float32, normalizer_fn=None)]"
            ]
          },
          "metadata": {
            "tags": []
          },
          "execution_count": 20
        }
      ]
    },
    {
      "cell_type": "code",
      "metadata": {
        "id": "wSqzCOp2S9U1",
        "colab_type": "code",
        "colab": {}
      },
      "source": [
        "input_func = tf.estimator.inputs.pandas_input_fn(x=X_train, y=y_train, batch_size=10, num_epochs=5, shuffle=True)"
      ],
      "execution_count": 0,
      "outputs": []
    },
    {
      "cell_type": "code",
      "metadata": {
        "id": "c3s4trW1S8ur",
        "colab_type": "code",
        "outputId": "0405dd89-3aef-4c25-c8bd-7c6474877992",
        "colab": {
          "base_uri": "https://localhost:8080/",
          "height": 34
        }
      },
      "source": [
        "classifier = tf.estimator.DNNClassifier(hidden_units=[10,20,10], n_classes=3,feature_columns=feat_columns)"
      ],
      "execution_count": 22,
      "outputs": [
        {
          "output_type": "stream",
          "text": [
            "W0731 12:56:47.668578 140251456051072 estimator.py:1811] Using temporary folder as model directory: /tmp/tmp_vgveuny\n"
          ],
          "name": "stderr"
        }
      ]
    },
    {
      "cell_type": "code",
      "metadata": {
        "id": "rSmjBLHZS5_8",
        "colab_type": "code",
        "outputId": "cc4f432b-eeb5-4a77-bb52-929cec7cb2bf",
        "colab": {
          "base_uri": "https://localhost:8080/",
          "height": 457
        }
      },
      "source": [
        "classifier.train(input_fn=input_func, steps=50)"
      ],
      "execution_count": 23,
      "outputs": [
        {
          "output_type": "stream",
          "text": [
            "W0731 12:56:49.095419 140251456051072 deprecation.py:323] From /usr/local/lib/python3.6/dist-packages/tensorflow/python/training/training_util.py:236: Variable.initialized_value (from tensorflow.python.ops.variables) is deprecated and will be removed in a future version.\n",
            "Instructions for updating:\n",
            "Use Variable.read_value. Variables in 2.X are initialized automatically both in eager and graph (inside tf.defun) contexts.\n",
            "W0731 12:56:49.124067 140251456051072 deprecation.py:323] From /usr/local/lib/python3.6/dist-packages/tensorflow_estimator/python/estimator/inputs/queues/feeding_queue_runner.py:62: QueueRunner.__init__ (from tensorflow.python.training.queue_runner_impl) is deprecated and will be removed in a future version.\n",
            "Instructions for updating:\n",
            "To construct input pipelines, use the `tf.data` module.\n",
            "W0731 12:56:49.126946 140251456051072 deprecation.py:323] From /usr/local/lib/python3.6/dist-packages/tensorflow_estimator/python/estimator/inputs/queues/feeding_functions.py:500: add_queue_runner (from tensorflow.python.training.queue_runner_impl) is deprecated and will be removed in a future version.\n",
            "Instructions for updating:\n",
            "To construct input pipelines, use the `tf.data` module.\n",
            "W0731 12:56:49.149260 140251456051072 deprecation.py:506] From /usr/local/lib/python3.6/dist-packages/tensorflow/python/ops/init_ops.py:1251: calling VarianceScaling.__init__ (from tensorflow.python.ops.init_ops) with dtype is deprecated and will be removed in a future version.\n",
            "Instructions for updating:\n",
            "Call initializer instance with the dtype argument instead of passing it to the constructor\n",
            "W0731 12:56:50.340631 140251456051072 deprecation.py:323] From /usr/local/lib/python3.6/dist-packages/tensorflow_estimator/python/estimator/canned/head.py:437: to_float (from tensorflow.python.ops.math_ops) is deprecated and will be removed in a future version.\n",
            "Instructions for updating:\n",
            "Use `tf.cast` instead.\n",
            "W0731 12:56:50.493465 140251456051072 deprecation.py:506] From /usr/local/lib/python3.6/dist-packages/tensorflow/python/training/adagrad.py:76: calling Constant.__init__ (from tensorflow.python.ops.init_ops) with dtype is deprecated and will be removed in a future version.\n",
            "Instructions for updating:\n",
            "Call initializer instance with the dtype argument instead of passing it to the constructor\n",
            "W0731 12:56:50.690232 140251456051072 deprecation.py:323] From /usr/local/lib/python3.6/dist-packages/tensorflow/python/ops/array_ops.py:1354: add_dispatch_support.<locals>.wrapper (from tensorflow.python.ops.array_ops) is deprecated and will be removed in a future version.\n",
            "Instructions for updating:\n",
            "Use tf.where in 2.0, which has the same broadcast rule as np.where\n",
            "W0731 12:56:51.210951 140251456051072 deprecation.py:323] From /usr/local/lib/python3.6/dist-packages/tensorflow/python/training/monitored_session.py:875: start_queue_runners (from tensorflow.python.training.queue_runner_impl) is deprecated and will be removed in a future version.\n",
            "Instructions for updating:\n",
            "To construct input pipelines, use the `tf.data` module.\n"
          ],
          "name": "stderr"
        },
        {
          "output_type": "execute_result",
          "data": {
            "text/plain": [
              "<tensorflow_estimator.python.estimator.canned.dnn.DNNClassifier at 0x7f8e905e7fd0>"
            ]
          },
          "metadata": {
            "tags": []
          },
          "execution_count": 23
        }
      ]
    },
    {
      "cell_type": "code",
      "metadata": {
        "id": "mrmHyhHLVFsB",
        "colab_type": "code",
        "colab": {}
      },
      "source": [
        "pred_fn = tf.estimator.inputs.pandas_input_fn(x=X_test,batch_size=len(X_test), shuffle=\n",
        "                                             False)"
      ],
      "execution_count": 0,
      "outputs": []
    },
    {
      "cell_type": "code",
      "metadata": {
        "id": "3e7JfZ8QVm7Q",
        "colab_type": "code",
        "colab": {
          "base_uri": "https://localhost:8080/",
          "height": 87
        },
        "outputId": "02469753-c567-45b1-f12b-a810907c20c8"
      },
      "source": [
        "pred = list(classifier.predict(input_fn = pred_fn))"
      ],
      "execution_count": 25,
      "outputs": [
        {
          "output_type": "stream",
          "text": [
            "W0731 12:58:00.797890 140251456051072 deprecation.py:323] From /usr/local/lib/python3.6/dist-packages/tensorflow/python/training/saver.py:1276: checkpoint_exists (from tensorflow.python.training.checkpoint_management) is deprecated and will be removed in a future version.\n",
            "Instructions for updating:\n",
            "Use standard file APIs to check for files with this prefix.\n"
          ],
          "name": "stderr"
        }
      ]
    },
    {
      "cell_type": "code",
      "metadata": {
        "id": "sIORvWOvWAyp",
        "colab_type": "code",
        "outputId": "4270f2fe-ecbf-432b-cf49-8351d161e04b",
        "colab": {
          "base_uri": "https://localhost:8080/",
          "height": 1000
        }
      },
      "source": [
        "pred"
      ],
      "execution_count": 26,
      "outputs": [
        {
          "output_type": "execute_result",
          "data": {
            "text/plain": [
              "[{'all_class_ids': array([0, 1, 2], dtype=int32),\n",
              "  'all_classes': array([b'0', b'1', b'2'], dtype=object),\n",
              "  'class_ids': array([2]),\n",
              "  'classes': array([b'2'], dtype=object),\n",
              "  'logits': array([-6.4234896 ,  0.04740457,  1.1837875 ], dtype=float32),\n",
              "  'probabilities': array([3.7596098e-04, 2.4289373e-01, 7.5673032e-01], dtype=float32)},\n",
              " {'all_class_ids': array([0, 1, 2], dtype=int32),\n",
              "  'all_classes': array([b'0', b'1', b'2'], dtype=object),\n",
              "  'class_ids': array([0]),\n",
              "  'classes': array([b'0'], dtype=object),\n",
              "  'logits': array([ 1.9998313, -1.0575991, -4.4457264], dtype=float32),\n",
              "  'probabilities': array([0.9536562 , 0.04482979, 0.00151399], dtype=float32)},\n",
              " {'all_class_ids': array([0, 1, 2], dtype=int32),\n",
              "  'all_classes': array([b'0', b'1', b'2'], dtype=object),\n",
              "  'class_ids': array([2]),\n",
              "  'classes': array([b'2'], dtype=object),\n",
              "  'logits': array([-5.1446505 ,  0.01290517,  0.16060594], dtype=float32),\n",
              "  'probabilities': array([0.00265864, 0.46191046, 0.5354309 ], dtype=float32)},\n",
              " {'all_class_ids': array([0, 1, 2], dtype=int32),\n",
              "  'all_classes': array([b'0', b'1', b'2'], dtype=object),\n",
              "  'class_ids': array([0]),\n",
              "  'classes': array([b'0'], dtype=object),\n",
              "  'logits': array([ 2.42692  , -1.2664341, -4.9003124], dtype=float32),\n",
              "  'probabilities': array([9.7509050e-01, 2.4268426e-02, 6.4101524e-04], dtype=float32)},\n",
              " {'all_class_ids': array([0, 1, 2], dtype=int32),\n",
              "  'all_classes': array([b'0', b'1', b'2'], dtype=object),\n",
              "  'class_ids': array([0]),\n",
              "  'classes': array([b'0'], dtype=object),\n",
              "  'logits': array([ 2.1931715, -1.1775875, -4.9314833], dtype=float32),\n",
              "  'probabilities': array([9.6602631e-01, 3.3196088e-02, 7.7766168e-04], dtype=float32)},\n",
              " {'all_class_ids': array([0, 1, 2], dtype=int32),\n",
              "  'all_classes': array([b'0', b'1', b'2'], dtype=object),\n",
              "  'class_ids': array([2]),\n",
              "  'classes': array([b'2'], dtype=object),\n",
              "  'logits': array([-5.349503  , -0.0058579 ,  0.08524433], dtype=float32),\n",
              "  'probabilities': array([0.00227527, 0.47615433, 0.5215704 ], dtype=float32)},\n",
              " {'all_class_ids': array([0, 1, 2], dtype=int32),\n",
              "  'all_classes': array([b'0', b'1', b'2'], dtype=object),\n",
              "  'class_ids': array([0]),\n",
              "  'classes': array([b'0'], dtype=object),\n",
              "  'logits': array([ 1.8443596, -1.1648638, -4.9358063], dtype=float32),\n",
              "  'probabilities': array([0.9519584 , 0.04696008, 0.00108151], dtype=float32)},\n",
              " {'all_class_ids': array([0, 1, 2], dtype=int32),\n",
              "  'all_classes': array([b'0', b'1', b'2'], dtype=object),\n",
              "  'class_ids': array([0]),\n",
              "  'classes': array([b'0'], dtype=object),\n",
              "  'logits': array([ 2.0871677, -1.087346 , -4.53967  ], dtype=float32),\n",
              "  'probabilities': array([0.9586452 , 0.0400852 , 0.00126958], dtype=float32)},\n",
              " {'all_class_ids': array([0, 1, 2], dtype=int32),\n",
              "  'all_classes': array([b'0', b'1', b'2'], dtype=object),\n",
              "  'class_ids': array([2]),\n",
              "  'classes': array([b'2'], dtype=object),\n",
              "  'logits': array([-7.090908  , -0.17787977,  1.4638243 ], dtype=float32),\n",
              "  'probabilities': array([1.6135408e-04, 1.6220714e-01, 8.3763146e-01], dtype=float32)},\n",
              " {'all_class_ids': array([0, 1, 2], dtype=int32),\n",
              "  'all_classes': array([b'0', b'1', b'2'], dtype=object),\n",
              "  'class_ids': array([2]),\n",
              "  'classes': array([b'2'], dtype=object),\n",
              "  'logits': array([-8.044329  , -0.23107524,  1.6772522 ], dtype=float32),\n",
              "  'probabilities': array([5.2225489e-05, 1.2916212e-01, 8.7078565e-01], dtype=float32)},\n",
              " {'all_class_ids': array([0, 1, 2], dtype=int32),\n",
              "  'all_classes': array([b'0', b'1', b'2'], dtype=object),\n",
              "  'class_ids': array([2]),\n",
              "  'classes': array([b'2'], dtype=object),\n",
              "  'logits': array([-6.75615   , -0.07910438,  1.3800865 ], dtype=float32),\n",
              "  'probabilities': array([2.3747295e-04, 1.8854630e-01, 8.1121618e-01], dtype=float32)},\n",
              " {'all_class_ids': array([0, 1, 2], dtype=int32),\n",
              "  'all_classes': array([b'0', b'1', b'2'], dtype=object),\n",
              "  'class_ids': array([2]),\n",
              "  'classes': array([b'2'], dtype=object),\n",
              "  'logits': array([-6.285529  ,  0.05820946,  0.83994687], dtype=float32),\n",
              "  'probabilities': array([5.5152358e-04, 3.1377241e-01, 6.8567604e-01], dtype=float32)},\n",
              " {'all_class_ids': array([0, 1, 2], dtype=int32),\n",
              "  'all_classes': array([b'0', b'1', b'2'], dtype=object),\n",
              "  'class_ids': array([2]),\n",
              "  'classes': array([b'2'], dtype=object),\n",
              "  'logits': array([-5.672234  ,  0.07098083,  0.6723305 ], dtype=float32),\n",
              "  'probabilities': array([0.0011332 , 0.3536338 , 0.64523304], dtype=float32)},\n",
              " {'all_class_ids': array([0, 1, 2], dtype=int32),\n",
              "  'all_classes': array([b'0', b'1', b'2'], dtype=object),\n",
              "  'class_ids': array([2]),\n",
              "  'classes': array([b'2'], dtype=object),\n",
              "  'logits': array([-6.680279  ,  0.02547638,  1.2671671 ], dtype=float32),\n",
              "  'probabilities': array([2.7424033e-04, 2.2408035e-01, 7.7564538e-01], dtype=float32)},\n",
              " {'all_class_ids': array([0, 1, 2], dtype=int32),\n",
              "  'all_classes': array([b'0', b'1', b'2'], dtype=object),\n",
              "  'class_ids': array([0]),\n",
              "  'classes': array([b'0'], dtype=object),\n",
              "  'logits': array([ 1.7190443, -1.0335438, -4.391457 ], dtype=float32),\n",
              "  'probabilities': array([0.93810207, 0.05981584, 0.00208206], dtype=float32)},\n",
              " {'all_class_ids': array([0, 1, 2], dtype=int32),\n",
              "  'all_classes': array([b'0', b'1', b'2'], dtype=object),\n",
              "  'class_ids': array([2]),\n",
              "  'classes': array([b'2'], dtype=object),\n",
              "  'logits': array([-7.684245  , -0.11113639,  1.5865234 ], dtype=float32),\n",
              "  'probabilities': array([7.9560290e-05, 1.5475886e-01, 8.4516168e-01], dtype=float32)},\n",
              " {'all_class_ids': array([0, 1, 2], dtype=int32),\n",
              "  'all_classes': array([b'0', b'1', b'2'], dtype=object),\n",
              "  'class_ids': array([2]),\n",
              "  'classes': array([b'2'], dtype=object),\n",
              "  'logits': array([-5.5950537 ,  0.10576777,  0.9609841 ], dtype=float32),\n",
              "  'probabilities': array([0.00099642, 0.29804248, 0.70096105], dtype=float32)},\n",
              " {'all_class_ids': array([0, 1, 2], dtype=int32),\n",
              "  'all_classes': array([b'0', b'1', b'2'], dtype=object),\n",
              "  'class_ids': array([2]),\n",
              "  'classes': array([b'2'], dtype=object),\n",
              "  'logits': array([-6.7212462 , -0.00746818,  1.3423008 ], dtype=float32),\n",
              "  'probabilities': array([2.4992411e-04, 2.0585667e-01, 7.9389340e-01], dtype=float32)},\n",
              " {'all_class_ids': array([0, 1, 2], dtype=int32),\n",
              "  'all_classes': array([b'0', b'1', b'2'], dtype=object),\n",
              "  'class_ids': array([2]),\n",
              "  'classes': array([b'2'], dtype=object),\n",
              "  'logits': array([-7.4779749e+00, -4.6515018e-03,  1.4252095e+00], dtype=float32),\n",
              "  'probabilities': array([1.0968749e-04, 1.9309916e-01, 8.0679119e-01], dtype=float32)},\n",
              " {'all_class_ids': array([0, 1, 2], dtype=int32),\n",
              "  'all_classes': array([b'0', b'1', b'2'], dtype=object),\n",
              "  'class_ids': array([0]),\n",
              "  'classes': array([b'0'], dtype=object),\n",
              "  'logits': array([ 1.4602274, -1.018347 , -4.3655705], dtype=float32),\n",
              "  'probabilities': array([0.92012143, 0.07716388, 0.00271477], dtype=float32)},\n",
              " {'all_class_ids': array([0, 1, 2], dtype=int32),\n",
              "  'all_classes': array([b'0', b'1', b'2'], dtype=object),\n",
              "  'class_ids': array([0]),\n",
              "  'classes': array([b'0'], dtype=object),\n",
              "  'logits': array([ 1.7642921, -1.022363 , -4.3395247], dtype=float32),\n",
              "  'probabilities': array([0.9399721 , 0.05792768, 0.0021002 ], dtype=float32)},\n",
              " {'all_class_ids': array([0, 1, 2], dtype=int32),\n",
              "  'all_classes': array([b'0', b'1', b'2'], dtype=object),\n",
              "  'class_ids': array([2]),\n",
              "  'classes': array([b'2'], dtype=object),\n",
              "  'logits': array([-7.7507777 , -0.06380792,  1.5921488 ], dtype=float32),\n",
              "  'probabilities': array([7.3537383e-05, 1.6029373e-01, 8.3963275e-01], dtype=float32)},\n",
              " {'all_class_ids': array([0, 1, 2], dtype=int32),\n",
              "  'all_classes': array([b'0', b'1', b'2'], dtype=object),\n",
              "  'class_ids': array([2]),\n",
              "  'classes': array([b'2'], dtype=object),\n",
              "  'logits': array([-6.4539680e+00,  4.1904896e-03,  1.1961745e+00], dtype=float32),\n",
              "  'probabilities': array([3.6498607e-04, 2.3281927e-01, 7.6681572e-01], dtype=float32)},\n",
              " {'all_class_ids': array([0, 1, 2], dtype=int32),\n",
              "  'all_classes': array([b'0', b'1', b'2'], dtype=object),\n",
              "  'class_ids': array([0]),\n",
              "  'classes': array([b'0'], dtype=object),\n",
              "  'logits': array([ 2.3327434, -1.2220724, -5.003593 ], dtype=float32),\n",
              "  'probabilities': array([9.7159249e-01, 2.7774565e-02, 6.3292729e-04], dtype=float32)},\n",
              " {'all_class_ids': array([0, 1, 2], dtype=int32),\n",
              "  'all_classes': array([b'0', b'1', b'2'], dtype=object),\n",
              "  'class_ids': array([2]),\n",
              "  'classes': array([b'2'], dtype=object),\n",
              "  'logits': array([-5.106814  ,  0.05125646,  0.55654514], dtype=float32),\n",
              "  'probabilities': array([0.00216009, 0.37548578, 0.62235415], dtype=float32)},\n",
              " {'all_class_ids': array([0, 1, 2], dtype=int32),\n",
              "  'all_classes': array([b'0', b'1', b'2'], dtype=object),\n",
              "  'class_ids': array([0]),\n",
              "  'classes': array([b'0'], dtype=object),\n",
              "  'logits': array([ 2.082091 , -1.1471716, -4.8013797], dtype=float32),\n",
              "  'probabilities': array([0.9609736 , 0.03804175, 0.0009846 ], dtype=float32)},\n",
              " {'all_class_ids': array([0, 1, 2], dtype=int32),\n",
              "  'all_classes': array([b'0', b'1', b'2'], dtype=object),\n",
              "  'class_ids': array([1]),\n",
              "  'classes': array([b'1'], dtype=object),\n",
              "  'logits': array([-4.2812643 , -0.01264425, -0.12063333], dtype=float32),\n",
              "  'probabilities': array([0.00732413, 0.52311146, 0.4695644 ], dtype=float32)},\n",
              " {'all_class_ids': array([0, 1, 2], dtype=int32),\n",
              "  'all_classes': array([b'0', b'1', b'2'], dtype=object),\n",
              "  'class_ids': array([0]),\n",
              "  'classes': array([b'0'], dtype=object),\n",
              "  'logits': array([ 2.5269995, -1.3276949, -5.3340282], dtype=float32),\n",
              "  'probabilities': array([9.7888970e-01, 2.0732958e-02, 3.7733995e-04], dtype=float32)},\n",
              " {'all_class_ids': array([0, 1, 2], dtype=int32),\n",
              "  'all_classes': array([b'0', b'1', b'2'], dtype=object),\n",
              "  'class_ids': array([0]),\n",
              "  'classes': array([b'0'], dtype=object),\n",
              "  'logits': array([ 2.103527 , -1.1328044, -4.738715 ], dtype=float32),\n",
              "  'probabilities': array([0.96119136, 0.03778235, 0.00102627], dtype=float32)},\n",
              " {'all_class_ids': array([0, 1, 2], dtype=int32),\n",
              "  'all_classes': array([b'0', b'1', b'2'], dtype=object),\n",
              "  'class_ids': array([2]),\n",
              "  'classes': array([b'2'], dtype=object),\n",
              "  'logits': array([-4.9570107 ,  0.03932266,  0.27917424], dtype=float32),\n",
              "  'probabilities': array([0.00296893, 0.4390156 , 0.5580154 ], dtype=float32)},\n",
              " {'all_class_ids': array([0, 1, 2], dtype=int32),\n",
              "  'all_classes': array([b'0', b'1', b'2'], dtype=object),\n",
              "  'class_ids': array([2]),\n",
              "  'classes': array([b'2'], dtype=object),\n",
              "  'logits': array([-5.9666204 ,  0.09485213,  0.9484571 ], dtype=float32),\n",
              "  'probabilities': array([6.9572177e-04, 2.9846936e-01, 7.0083487e-01], dtype=float32)},\n",
              " {'all_class_ids': array([0, 1, 2], dtype=int32),\n",
              "  'all_classes': array([b'0', b'1', b'2'], dtype=object),\n",
              "  'class_ids': array([2]),\n",
              "  'classes': array([b'2'], dtype=object),\n",
              "  'logits': array([-6.079755  ,  0.05660407,  0.8006611 ], dtype=float32),\n",
              "  'probabilities': array([0.00069619, 0.32189336, 0.6774104 ], dtype=float32)},\n",
              " {'all_class_ids': array([0, 1, 2], dtype=int32),\n",
              "  'all_classes': array([b'0', b'1', b'2'], dtype=object),\n",
              "  'class_ids': array([0]),\n",
              "  'classes': array([b'0'], dtype=object),\n",
              "  'logits': array([ 2.3549528, -1.2351466, -5.079803 ], dtype=float32),\n",
              "  'probabilities': array([9.7258669e-01, 2.6839102e-02, 5.7418906e-04], dtype=float32)},\n",
              " {'all_class_ids': array([0, 1, 2], dtype=int32),\n",
              "  'all_classes': array([b'0', b'1', b'2'], dtype=object),\n",
              "  'class_ids': array([2]),\n",
              "  'classes': array([b'2'], dtype=object),\n",
              "  'logits': array([-8.870596  , -0.15806194,  1.8577852 ], dtype=float32),\n",
              "  'probabilities': array([1.9337729e-05, 1.1754681e-01, 8.8243389e-01], dtype=float32)},\n",
              " {'all_class_ids': array([0, 1, 2], dtype=int32),\n",
              "  'all_classes': array([b'0', b'1', b'2'], dtype=object),\n",
              "  'class_ids': array([0]),\n",
              "  'classes': array([b'0'], dtype=object),\n",
              "  'logits': array([ 2.1490793, -1.2581062, -5.259408 ], dtype=float32),\n",
              "  'probabilities': array([9.6736085e-01, 3.2052845e-02, 5.8630464e-04], dtype=float32)},\n",
              " {'all_class_ids': array([0, 1, 2], dtype=int32),\n",
              "  'all_classes': array([b'0', b'1', b'2'], dtype=object),\n",
              "  'class_ids': array([2]),\n",
              "  'classes': array([b'2'], dtype=object),\n",
              "  'logits': array([-8.472359  , -0.10276194,  1.7608765 ], dtype=float32),\n",
              "  'probabilities': array([3.1126230e-05, 1.3427533e-01, 8.6569351e-01], dtype=float32)},\n",
              " {'all_class_ids': array([0, 1, 2], dtype=int32),\n",
              "  'all_classes': array([b'0', b'1', b'2'], dtype=object),\n",
              "  'class_ids': array([0]),\n",
              "  'classes': array([b'0'], dtype=object),\n",
              "  'logits': array([ 1.6561207, -1.0371987, -4.4292617], dtype=float32),\n",
              "  'probabilities': array([0.93463886, 0.06323392, 0.00212714], dtype=float32)},\n",
              " {'all_class_ids': array([0, 1, 2], dtype=int32),\n",
              "  'all_classes': array([b'0', b'1', b'2'], dtype=object),\n",
              "  'class_ids': array([0]),\n",
              "  'classes': array([b'0'], dtype=object),\n",
              "  'logits': array([ 2.530144 , -1.3276577, -5.27213  ], dtype=float32),\n",
              "  'probabilities': array([9.7893035e-01, 2.0669492e-02, 4.0019103e-04], dtype=float32)},\n",
              " {'all_class_ids': array([0, 1, 2], dtype=int32),\n",
              "  'all_classes': array([b'0', b'1', b'2'], dtype=object),\n",
              "  'class_ids': array([0]),\n",
              "  'classes': array([b'0'], dtype=object),\n",
              "  'logits': array([ 2.0808551, -1.132477 , -4.7408032], dtype=float32),\n",
              "  'probabilities': array([0.9603267 , 0.03862661, 0.00104667], dtype=float32)},\n",
              " {'all_class_ids': array([0, 1, 2], dtype=int32),\n",
              "  'all_classes': array([b'0', b'1', b'2'], dtype=object),\n",
              "  'class_ids': array([2]),\n",
              "  'classes': array([b'2'], dtype=object),\n",
              "  'logits': array([-5.6295776 ,  0.10347216,  0.8991146 ], dtype=float32),\n",
              "  'probabilities': array([0.00100562, 0.3106457 , 0.68834865], dtype=float32)},\n",
              " {'all_class_ids': array([0, 1, 2], dtype=int32),\n",
              "  'all_classes': array([b'0', b'1', b'2'], dtype=object),\n",
              "  'class_ids': array([1]),\n",
              "  'classes': array([b'1'], dtype=object),\n",
              "  'logits': array([-3.5885353 , -0.13496251, -0.88076615], dtype=float32),\n",
              "  'probabilities': array([0.02100447, 0.6640171 , 0.31497845], dtype=float32)},\n",
              " {'all_class_ids': array([0, 1, 2], dtype=int32),\n",
              "  'all_classes': array([b'0', b'1', b'2'], dtype=object),\n",
              "  'class_ids': array([0]),\n",
              "  'classes': array([b'0'], dtype=object),\n",
              "  'logits': array([ 1.7918537, -1.0669328, -4.5196986], dtype=float32),\n",
              "  'probabilities': array([0.94415027, 0.05413597, 0.00171383], dtype=float32)},\n",
              " {'all_class_ids': array([0, 1, 2], dtype=int32),\n",
              "  'all_classes': array([b'0', b'1', b'2'], dtype=object),\n",
              "  'class_ids': array([2]),\n",
              "  'classes': array([b'2'], dtype=object),\n",
              "  'logits': array([-6.9932404 , -0.11558731,  1.4350278 ], dtype=float32),\n",
              "  'probabilities': array([1.8031278e-04, 1.7496587e-01, 8.2485378e-01], dtype=float32)},\n",
              " {'all_class_ids': array([0, 1, 2], dtype=int32),\n",
              "  'all_classes': array([b'0', b'1', b'2'], dtype=object),\n",
              "  'class_ids': array([0]),\n",
              "  'classes': array([b'0'], dtype=object),\n",
              "  'logits': array([ 1.2400662, -1.0391474, -4.5202346], dtype=float32),\n",
              "  'probabilities': array([0.904556  , 0.09259459, 0.0028495 ], dtype=float32)},\n",
              " {'all_class_ids': array([0, 1, 2], dtype=int32),\n",
              "  'all_classes': array([b'0', b'1', b'2'], dtype=object),\n",
              "  'class_ids': array([2]),\n",
              "  'classes': array([b'2'], dtype=object),\n",
              "  'logits': array([-4.8226357 ,  0.05232923,  0.43352345], dtype=float32),\n",
              "  'probabilities': array([0.00308915, 0.40458518, 0.5923256 ], dtype=float32)}]"
            ]
          },
          "metadata": {
            "tags": []
          },
          "execution_count": 26
        }
      ]
    },
    {
      "cell_type": "code",
      "metadata": {
        "id": "9k1QdS8VWG9i",
        "colab_type": "code",
        "colab": {}
      },
      "source": [
        "final_preds = []\n",
        "\n",
        "for i in pred:\n",
        "  final_preds.append(i['class_ids'][0])"
      ],
      "execution_count": 0,
      "outputs": []
    },
    {
      "cell_type": "code",
      "metadata": {
        "id": "yIj5HwOzXLtY",
        "colab_type": "code",
        "outputId": "79036c32-1896-4876-e69d-08fea3c51f17",
        "colab": {
          "base_uri": "https://localhost:8080/",
          "height": 773
        }
      },
      "source": [
        "final_preds"
      ],
      "execution_count": 28,
      "outputs": [
        {
          "output_type": "execute_result",
          "data": {
            "text/plain": [
              "[2,\n",
              " 0,\n",
              " 2,\n",
              " 0,\n",
              " 0,\n",
              " 2,\n",
              " 0,\n",
              " 0,\n",
              " 2,\n",
              " 2,\n",
              " 2,\n",
              " 2,\n",
              " 2,\n",
              " 2,\n",
              " 0,\n",
              " 2,\n",
              " 2,\n",
              " 2,\n",
              " 2,\n",
              " 0,\n",
              " 0,\n",
              " 2,\n",
              " 2,\n",
              " 0,\n",
              " 2,\n",
              " 0,\n",
              " 1,\n",
              " 0,\n",
              " 0,\n",
              " 2,\n",
              " 2,\n",
              " 2,\n",
              " 0,\n",
              " 2,\n",
              " 0,\n",
              " 2,\n",
              " 0,\n",
              " 0,\n",
              " 0,\n",
              " 2,\n",
              " 1,\n",
              " 0,\n",
              " 2,\n",
              " 0,\n",
              " 2]"
            ]
          },
          "metadata": {
            "tags": []
          },
          "execution_count": 28
        }
      ]
    },
    {
      "cell_type": "code",
      "metadata": {
        "id": "n_79ZqYpXSpt",
        "colab_type": "code",
        "colab": {}
      },
      "source": [
        "from sklearn.metrics import classification_report, confusion_matrix"
      ],
      "execution_count": 0,
      "outputs": []
    },
    {
      "cell_type": "code",
      "metadata": {
        "id": "BR45SQbjXire",
        "colab_type": "code",
        "outputId": "492c012f-df26-46f0-f982-ff5e046f54a9",
        "colab": {
          "base_uri": "https://localhost:8080/",
          "height": 235
        }
      },
      "source": [
        "print(confusion_matrix(y_test, final_preds))\n",
        "print(classification_report(y_test, final_preds))\n"
      ],
      "execution_count": 30,
      "outputs": [
        {
          "output_type": "stream",
          "text": [
            "[[19  0  0]\n",
            " [ 0  2 12]\n",
            " [ 0  0 12]]\n",
            "              precision    recall  f1-score   support\n",
            "\n",
            "           0       1.00      1.00      1.00        19\n",
            "           1       1.00      0.14      0.25        14\n",
            "           2       0.50      1.00      0.67        12\n",
            "\n",
            "    accuracy                           0.73        45\n",
            "   macro avg       0.83      0.71      0.64        45\n",
            "weighted avg       0.87      0.73      0.68        45\n",
            "\n"
          ],
          "name": "stdout"
        }
      ]
    },
    {
      "cell_type": "code",
      "metadata": {
        "id": "6E_eRhKuX5Yy",
        "colab_type": "code",
        "colab": {}
      },
      "source": [
        ""
      ],
      "execution_count": 0,
      "outputs": []
    }
  ]
}