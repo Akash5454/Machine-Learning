{
 "cells": [
  {
   "cell_type": "code",
   "execution_count": 1,
   "metadata": {},
   "outputs": [],
   "source": [
    "#Import The Libraries\n",
    "import numpy as np \n",
    "import matplotlib.pyplot as plt\n",
    "import pandas as pd"
   ]
  },
  {
   "cell_type": "code",
   "execution_count": 2,
   "metadata": {},
   "outputs": [],
   "source": [
    "%matplotlib inline"
   ]
  },
  {
   "cell_type": "code",
   "execution_count": 4,
   "metadata": {},
   "outputs": [],
   "source": [
    "#Importing the Dataset\n",
    "df = pd.read_csv('Churn_Modelling.csv')"
   ]
  },
  {
   "cell_type": "code",
   "execution_count": 7,
   "metadata": {},
   "outputs": [
    {
     "data": {
      "text/html": [
       "<div>\n",
       "<style scoped>\n",
       "    .dataframe tbody tr th:only-of-type {\n",
       "        vertical-align: middle;\n",
       "    }\n",
       "\n",
       "    .dataframe tbody tr th {\n",
       "        vertical-align: top;\n",
       "    }\n",
       "\n",
       "    .dataframe thead th {\n",
       "        text-align: right;\n",
       "    }\n",
       "</style>\n",
       "<table border=\"1\" class=\"dataframe\">\n",
       "  <thead>\n",
       "    <tr style=\"text-align: right;\">\n",
       "      <th></th>\n",
       "      <th>RowNumber</th>\n",
       "      <th>CustomerId</th>\n",
       "      <th>Surname</th>\n",
       "      <th>CreditScore</th>\n",
       "      <th>Geography</th>\n",
       "      <th>Gender</th>\n",
       "      <th>Age</th>\n",
       "      <th>Tenure</th>\n",
       "      <th>Balance</th>\n",
       "      <th>NumOfProducts</th>\n",
       "      <th>HasCrCard</th>\n",
       "      <th>IsActiveMember</th>\n",
       "      <th>EstimatedSalary</th>\n",
       "      <th>Exited</th>\n",
       "    </tr>\n",
       "  </thead>\n",
       "  <tbody>\n",
       "    <tr>\n",
       "      <td>0</td>\n",
       "      <td>1</td>\n",
       "      <td>15634602</td>\n",
       "      <td>Hargrave</td>\n",
       "      <td>619</td>\n",
       "      <td>France</td>\n",
       "      <td>Female</td>\n",
       "      <td>42</td>\n",
       "      <td>2</td>\n",
       "      <td>0.00</td>\n",
       "      <td>1</td>\n",
       "      <td>1</td>\n",
       "      <td>1</td>\n",
       "      <td>101348.88</td>\n",
       "      <td>1</td>\n",
       "    </tr>\n",
       "    <tr>\n",
       "      <td>1</td>\n",
       "      <td>2</td>\n",
       "      <td>15647311</td>\n",
       "      <td>Hill</td>\n",
       "      <td>608</td>\n",
       "      <td>Spain</td>\n",
       "      <td>Female</td>\n",
       "      <td>41</td>\n",
       "      <td>1</td>\n",
       "      <td>83807.86</td>\n",
       "      <td>1</td>\n",
       "      <td>0</td>\n",
       "      <td>1</td>\n",
       "      <td>112542.58</td>\n",
       "      <td>0</td>\n",
       "    </tr>\n",
       "    <tr>\n",
       "      <td>2</td>\n",
       "      <td>3</td>\n",
       "      <td>15619304</td>\n",
       "      <td>Onio</td>\n",
       "      <td>502</td>\n",
       "      <td>France</td>\n",
       "      <td>Female</td>\n",
       "      <td>42</td>\n",
       "      <td>8</td>\n",
       "      <td>159660.80</td>\n",
       "      <td>3</td>\n",
       "      <td>1</td>\n",
       "      <td>0</td>\n",
       "      <td>113931.57</td>\n",
       "      <td>1</td>\n",
       "    </tr>\n",
       "    <tr>\n",
       "      <td>3</td>\n",
       "      <td>4</td>\n",
       "      <td>15701354</td>\n",
       "      <td>Boni</td>\n",
       "      <td>699</td>\n",
       "      <td>France</td>\n",
       "      <td>Female</td>\n",
       "      <td>39</td>\n",
       "      <td>1</td>\n",
       "      <td>0.00</td>\n",
       "      <td>2</td>\n",
       "      <td>0</td>\n",
       "      <td>0</td>\n",
       "      <td>93826.63</td>\n",
       "      <td>0</td>\n",
       "    </tr>\n",
       "    <tr>\n",
       "      <td>4</td>\n",
       "      <td>5</td>\n",
       "      <td>15737888</td>\n",
       "      <td>Mitchell</td>\n",
       "      <td>850</td>\n",
       "      <td>Spain</td>\n",
       "      <td>Female</td>\n",
       "      <td>43</td>\n",
       "      <td>2</td>\n",
       "      <td>125510.82</td>\n",
       "      <td>1</td>\n",
       "      <td>1</td>\n",
       "      <td>1</td>\n",
       "      <td>79084.10</td>\n",
       "      <td>0</td>\n",
       "    </tr>\n",
       "  </tbody>\n",
       "</table>\n",
       "</div>"
      ],
      "text/plain": [
       "   RowNumber  CustomerId   Surname  CreditScore Geography  Gender  Age  \\\n",
       "0          1    15634602  Hargrave          619    France  Female   42   \n",
       "1          2    15647311      Hill          608     Spain  Female   41   \n",
       "2          3    15619304      Onio          502    France  Female   42   \n",
       "3          4    15701354      Boni          699    France  Female   39   \n",
       "4          5    15737888  Mitchell          850     Spain  Female   43   \n",
       "\n",
       "   Tenure    Balance  NumOfProducts  HasCrCard  IsActiveMember  \\\n",
       "0       2       0.00              1          1               1   \n",
       "1       1   83807.86              1          0               1   \n",
       "2       8  159660.80              3          1               0   \n",
       "3       1       0.00              2          0               0   \n",
       "4       2  125510.82              1          1               1   \n",
       "\n",
       "   EstimatedSalary  Exited  \n",
       "0        101348.88       1  \n",
       "1        112542.58       0  \n",
       "2        113931.57       1  \n",
       "3         93826.63       0  \n",
       "4         79084.10       0  "
      ]
     },
     "execution_count": 7,
     "metadata": {},
     "output_type": "execute_result"
    }
   ],
   "source": [
    "df.head()"
   ]
  },
  {
   "cell_type": "code",
   "execution_count": 59,
   "metadata": {},
   "outputs": [],
   "source": [
    "X = df.iloc[:,3:13].values\n",
    "y = df['Exited'].values"
   ]
  },
  {
   "cell_type": "code",
   "execution_count": 61,
   "metadata": {},
   "outputs": [
    {
     "data": {
      "text/plain": [
       "array([1, 0, 1, ..., 1, 1, 0], dtype=int64)"
      ]
     },
     "execution_count": 61,
     "metadata": {},
     "output_type": "execute_result"
    }
   ],
   "source": [
    "y"
   ]
  },
  {
   "cell_type": "code",
   "execution_count": 62,
   "metadata": {},
   "outputs": [
    {
     "data": {
      "text/plain": [
       "array([[619, 'France', 'Female', ..., 1, 1, 101348.88],\n",
       "       [608, 'Spain', 'Female', ..., 0, 1, 112542.58],\n",
       "       [502, 'France', 'Female', ..., 1, 0, 113931.57],\n",
       "       ...,\n",
       "       [709, 'France', 'Female', ..., 0, 1, 42085.58],\n",
       "       [772, 'Germany', 'Male', ..., 1, 0, 92888.52],\n",
       "       [792, 'France', 'Female', ..., 1, 0, 38190.78]], dtype=object)"
      ]
     },
     "execution_count": 62,
     "metadata": {},
     "output_type": "execute_result"
    }
   ],
   "source": [
    "X"
   ]
  },
  {
   "cell_type": "code",
   "execution_count": 63,
   "metadata": {},
   "outputs": [],
   "source": [
    "#Encoding Categorical Data\n",
    "import sklearn"
   ]
  },
  {
   "cell_type": "code",
   "execution_count": 64,
   "metadata": {},
   "outputs": [],
   "source": [
    "from sklearn.preprocessing import LabelEncoder, OneHotEncoder"
   ]
  },
  {
   "cell_type": "code",
   "execution_count": 65,
   "metadata": {},
   "outputs": [],
   "source": [
    "label_encoder1 = LabelEncoder()"
   ]
  },
  {
   "cell_type": "code",
   "execution_count": 67,
   "metadata": {},
   "outputs": [],
   "source": [
    "X[:,1] = label_encoder1.fit_transform(X[:,1])"
   ]
  },
  {
   "cell_type": "code",
   "execution_count": 68,
   "metadata": {},
   "outputs": [],
   "source": [
    "label_encoder2 = LabelEncoder()"
   ]
  },
  {
   "cell_type": "code",
   "execution_count": 70,
   "metadata": {},
   "outputs": [],
   "source": [
    "X[:, 2] = label_encoder2.fit_transform(X[:, 2])"
   ]
  },
  {
   "cell_type": "code",
   "execution_count": 71,
   "metadata": {},
   "outputs": [
    {
     "data": {
      "text/plain": [
       "array([[619, 0, 0, ..., 1, 1, 101348.88],\n",
       "       [608, 2, 0, ..., 0, 1, 112542.58],\n",
       "       [502, 0, 0, ..., 1, 0, 113931.57],\n",
       "       ...,\n",
       "       [709, 0, 0, ..., 0, 1, 42085.58],\n",
       "       [772, 1, 1, ..., 1, 0, 92888.52],\n",
       "       [792, 0, 0, ..., 1, 0, 38190.78]], dtype=object)"
      ]
     },
     "execution_count": 71,
     "metadata": {},
     "output_type": "execute_result"
    }
   ],
   "source": [
    "X"
   ]
  },
  {
   "cell_type": "code",
   "execution_count": 72,
   "metadata": {},
   "outputs": [],
   "source": [
    "onehotencoder = OneHotEncoder(categorical_features=[1]) "
   ]
  },
  {
   "cell_type": "code",
   "execution_count": 73,
   "metadata": {},
   "outputs": [
    {
     "name": "stderr",
     "output_type": "stream",
     "text": [
      "C:\\Users\\akash\\Anaconda3\\envs\\tensorflow\\lib\\site-packages\\sklearn\\preprocessing\\_encoders.py:415: FutureWarning: The handling of integer data will change in version 0.22. Currently, the categories are determined based on the range [0, max(values)], while in the future they will be determined based on the unique values.\n",
      "If you want the future behaviour and silence this warning, you can specify \"categories='auto'\".\n",
      "In case you used a LabelEncoder before this OneHotEncoder to convert the categories to integers, then you can now use the OneHotEncoder directly.\n",
      "  warnings.warn(msg, FutureWarning)\n",
      "C:\\Users\\akash\\Anaconda3\\envs\\tensorflow\\lib\\site-packages\\sklearn\\preprocessing\\_encoders.py:451: DeprecationWarning: The 'categorical_features' keyword is deprecated in version 0.20 and will be removed in 0.22. You can use the ColumnTransformer instead.\n",
      "  \"use the ColumnTransformer instead.\", DeprecationWarning)\n"
     ]
    }
   ],
   "source": [
    "X = onehotencoder.fit_transform(X).toarray()"
   ]
  },
  {
   "cell_type": "code",
   "execution_count": 76,
   "metadata": {},
   "outputs": [
    {
     "data": {
      "text/plain": [
       "array([[1.0000000e+00, 0.0000000e+00, 0.0000000e+00, ..., 1.0000000e+00,\n",
       "        1.0000000e+00, 1.0134888e+05],\n",
       "       [0.0000000e+00, 0.0000000e+00, 1.0000000e+00, ..., 0.0000000e+00,\n",
       "        1.0000000e+00, 1.1254258e+05],\n",
       "       [1.0000000e+00, 0.0000000e+00, 0.0000000e+00, ..., 1.0000000e+00,\n",
       "        0.0000000e+00, 1.1393157e+05],\n",
       "       ...,\n",
       "       [1.0000000e+00, 0.0000000e+00, 0.0000000e+00, ..., 0.0000000e+00,\n",
       "        1.0000000e+00, 4.2085580e+04],\n",
       "       [0.0000000e+00, 1.0000000e+00, 0.0000000e+00, ..., 1.0000000e+00,\n",
       "        0.0000000e+00, 9.2888520e+04],\n",
       "       [1.0000000e+00, 0.0000000e+00, 0.0000000e+00, ..., 1.0000000e+00,\n",
       "        0.0000000e+00, 3.8190780e+04]])"
      ]
     },
     "execution_count": 76,
     "metadata": {},
     "output_type": "execute_result"
    }
   ],
   "source": [
    "X"
   ]
  },
  {
   "cell_type": "code",
   "execution_count": 77,
   "metadata": {},
   "outputs": [],
   "source": [
    "X = X[:, 1:]"
   ]
  },
  {
   "cell_type": "code",
   "execution_count": 78,
   "metadata": {},
   "outputs": [
    {
     "data": {
      "text/plain": [
       "array([[0.0000000e+00, 0.0000000e+00, 6.1900000e+02, ..., 1.0000000e+00,\n",
       "        1.0000000e+00, 1.0134888e+05],\n",
       "       [0.0000000e+00, 1.0000000e+00, 6.0800000e+02, ..., 0.0000000e+00,\n",
       "        1.0000000e+00, 1.1254258e+05],\n",
       "       [0.0000000e+00, 0.0000000e+00, 5.0200000e+02, ..., 1.0000000e+00,\n",
       "        0.0000000e+00, 1.1393157e+05],\n",
       "       ...,\n",
       "       [0.0000000e+00, 0.0000000e+00, 7.0900000e+02, ..., 0.0000000e+00,\n",
       "        1.0000000e+00, 4.2085580e+04],\n",
       "       [1.0000000e+00, 0.0000000e+00, 7.7200000e+02, ..., 1.0000000e+00,\n",
       "        0.0000000e+00, 9.2888520e+04],\n",
       "       [0.0000000e+00, 0.0000000e+00, 7.9200000e+02, ..., 1.0000000e+00,\n",
       "        0.0000000e+00, 3.8190780e+04]])"
      ]
     },
     "execution_count": 78,
     "metadata": {},
     "output_type": "execute_result"
    }
   ],
   "source": [
    "X"
   ]
  },
  {
   "cell_type": "code",
   "execution_count": 80,
   "metadata": {},
   "outputs": [],
   "source": [
    "#Spliting the Dataset into Ttaining and testing datasets\n",
    "from sklearn.model_selection import train_test_split"
   ]
  },
  {
   "cell_type": "code",
   "execution_count": 87,
   "metadata": {},
   "outputs": [],
   "source": [
    " X_train, X_test, y_train, y_test = train_test_split(\n",
    "...     X, y, test_size=0.2, random_state=0)"
   ]
  },
  {
   "cell_type": "code",
   "execution_count": 88,
   "metadata": {},
   "outputs": [
    {
     "data": {
      "text/plain": [
       "array([[0.0000000e+00, 1.0000000e+00, 6.6700000e+02, ..., 1.0000000e+00,\n",
       "        0.0000000e+00, 1.6383064e+05],\n",
       "       [1.0000000e+00, 0.0000000e+00, 4.2700000e+02, ..., 1.0000000e+00,\n",
       "        1.0000000e+00, 5.7098000e+04],\n",
       "       [0.0000000e+00, 0.0000000e+00, 5.3500000e+02, ..., 1.0000000e+00,\n",
       "        0.0000000e+00, 1.8563076e+05],\n",
       "       ...,\n",
       "       [0.0000000e+00, 0.0000000e+00, 7.3800000e+02, ..., 1.0000000e+00,\n",
       "        0.0000000e+00, 1.8142987e+05],\n",
       "       [0.0000000e+00, 1.0000000e+00, 5.9000000e+02, ..., 1.0000000e+00,\n",
       "        1.0000000e+00, 1.4875016e+05],\n",
       "       [1.0000000e+00, 0.0000000e+00, 6.2300000e+02, ..., 1.0000000e+00,\n",
       "        0.0000000e+00, 1.1885526e+05]])"
      ]
     },
     "execution_count": 88,
     "metadata": {},
     "output_type": "execute_result"
    }
   ],
   "source": [
    "X_train"
   ]
  },
  {
   "cell_type": "code",
   "execution_count": 89,
   "metadata": {},
   "outputs": [],
   "source": [
    "#Feature Scaling\n",
    "from sklearn.preprocessing import StandardScaler"
   ]
  },
  {
   "cell_type": "code",
   "execution_count": 90,
   "metadata": {},
   "outputs": [],
   "source": [
    "sc = StandardScaler()"
   ]
  },
  {
   "cell_type": "code",
   "execution_count": 93,
   "metadata": {},
   "outputs": [],
   "source": [
    "X_train = sc.fit_transform(X_train)\n",
    "X_test =sc.transform(X_test)"
   ]
  },
  {
   "cell_type": "code",
   "execution_count": 94,
   "metadata": {},
   "outputs": [
    {
     "data": {
      "text/plain": [
       "array([[-0.5698444 ,  1.74309049,  0.16958176, ...,  0.64259497,\n",
       "        -1.03227043,  1.10643166],\n",
       "       [ 1.75486502, -0.57369368, -2.30455945, ...,  0.64259497,\n",
       "         0.9687384 , -0.74866447],\n",
       "       [-0.5698444 , -0.57369368, -1.19119591, ...,  0.64259497,\n",
       "        -1.03227043,  1.48533467],\n",
       "       ...,\n",
       "       [-0.5698444 , -0.57369368,  0.9015152 , ...,  0.64259497,\n",
       "        -1.03227043,  1.41231994],\n",
       "       [-0.5698444 ,  1.74309049, -0.62420521, ...,  0.64259497,\n",
       "         0.9687384 ,  0.84432121],\n",
       "       [ 1.75486502, -0.57369368, -0.28401079, ...,  0.64259497,\n",
       "        -1.03227043,  0.32472465]])"
      ]
     },
     "execution_count": 94,
     "metadata": {},
     "output_type": "execute_result"
    }
   ],
   "source": [
    "X_train"
   ]
  },
  {
   "cell_type": "code",
   "execution_count": 98,
   "metadata": {},
   "outputs": [],
   "source": [
    "#Making ANN\n",
    "#Importing Karas libraries and packages\n",
    "import keras \n",
    "from keras.models import Sequential\n",
    "from keras.layers import Dense"
   ]
  },
  {
   "cell_type": "code",
   "execution_count": 100,
   "metadata": {},
   "outputs": [
    {
     "name": "stderr",
     "output_type": "stream",
     "text": [
      "WARNING: Logging before flag parsing goes to stderr.\n",
      "W0824 12:52:39.124626  4356 deprecation_wrapper.py:119] From C:\\Users\\akash\\Anaconda3\\envs\\tensorflow\\lib\\site-packages\\keras\\backend\\tensorflow_backend.py:66: The name tf.get_default_graph is deprecated. Please use tf.compat.v1.get_default_graph instead.\n",
      "\n"
     ]
    }
   ],
   "source": [
    "#Initialising the ANN\n",
    "classifier = Sequential()"
   ]
  },
  {
   "cell_type": "code",
   "execution_count": 101,
   "metadata": {},
   "outputs": [
    {
     "name": "stderr",
     "output_type": "stream",
     "text": [
      "C:\\Users\\akash\\Anaconda3\\envs\\tensorflow\\lib\\site-packages\\ipykernel_launcher.py:4: UserWarning: Update your `Dense` call to the Keras 2 API: `Dense(activation=\"relu\", input_dim=11, units=6, kernel_initializer=\"uniform\")`\n",
      "  after removing the cwd from sys.path.\n",
      "W0824 13:18:56.674442  4356 deprecation_wrapper.py:119] From C:\\Users\\akash\\Anaconda3\\envs\\tensorflow\\lib\\site-packages\\keras\\backend\\tensorflow_backend.py:541: The name tf.placeholder is deprecated. Please use tf.compat.v1.placeholder instead.\n",
      "\n",
      "W0824 13:18:57.088938  4356 deprecation_wrapper.py:119] From C:\\Users\\akash\\Anaconda3\\envs\\tensorflow\\lib\\site-packages\\keras\\backend\\tensorflow_backend.py:4432: The name tf.random_uniform is deprecated. Please use tf.random.uniform instead.\n",
      "\n"
     ]
    }
   ],
   "source": [
    "#Adding the input layer and the first hidden layer\n",
    "#Rectifier Activation Function For Hidden Layers\n",
    "#Sigmoid Function For Output Layers\n",
    "classifier.add(Dense(output_dim = 6,init = 'uniform', activation = 'relu', input_dim = 11))"
   ]
  },
  {
   "cell_type": "code",
   "execution_count": 102,
   "metadata": {},
   "outputs": [
    {
     "name": "stderr",
     "output_type": "stream",
     "text": [
      "C:\\Users\\akash\\Anaconda3\\envs\\tensorflow\\lib\\site-packages\\ipykernel_launcher.py:2: UserWarning: Update your `Dense` call to the Keras 2 API: `Dense(activation=\"relu\", units=6, kernel_initializer=\"uniform\")`\n",
      "  \n"
     ]
    }
   ],
   "source": [
    "#adding the second hidden layer\n",
    "classifier.add(Dense(output_dim = 6,init = 'uniform', activation = 'relu'))\n"
   ]
  },
  {
   "cell_type": "code",
   "execution_count": 103,
   "metadata": {},
   "outputs": [
    {
     "name": "stderr",
     "output_type": "stream",
     "text": [
      "C:\\Users\\akash\\Anaconda3\\envs\\tensorflow\\lib\\site-packages\\ipykernel_launcher.py:2: UserWarning: Update your `Dense` call to the Keras 2 API: `Dense(activation=\"sigmoid\", units=1, kernel_initializer=\"uniform\")`\n",
      "  \n"
     ]
    }
   ],
   "source": [
    "#adding the output layer\n",
    "classifier.add(Dense(output_dim = 1,init = 'uniform', activation = 'sigmoid'))"
   ]
  },
  {
   "cell_type": "code",
   "execution_count": 104,
   "metadata": {},
   "outputs": [
    {
     "name": "stderr",
     "output_type": "stream",
     "text": [
      "W0824 13:33:05.574474  4356 deprecation_wrapper.py:119] From C:\\Users\\akash\\Anaconda3\\envs\\tensorflow\\lib\\site-packages\\keras\\optimizers.py:793: The name tf.train.Optimizer is deprecated. Please use tf.compat.v1.train.Optimizer instead.\n",
      "\n",
      "W0824 13:33:05.768955  4356 deprecation_wrapper.py:119] From C:\\Users\\akash\\Anaconda3\\envs\\tensorflow\\lib\\site-packages\\keras\\backend\\tensorflow_backend.py:3657: The name tf.log is deprecated. Please use tf.math.log instead.\n",
      "\n",
      "W0824 13:33:05.782949  4356 deprecation.py:323] From C:\\Users\\akash\\Anaconda3\\envs\\tensorflow\\lib\\site-packages\\tensorflow\\python\\ops\\nn_impl.py:180: add_dispatch_support.<locals>.wrapper (from tensorflow.python.ops.array_ops) is deprecated and will be removed in a future version.\n",
      "Instructions for updating:\n",
      "Use tf.where in 2.0, which has the same broadcast rule as np.where\n"
     ]
    }
   ],
   "source": [
    "#Compiling the ANN\n",
    "classifier.compile(optimizer='adam', loss = 'binary_crossentropy', metrics = ['accuracy'])"
   ]
  },
  {
   "cell_type": "code",
   "execution_count": 105,
   "metadata": {
    "scrolled": false
   },
   "outputs": [
    {
     "name": "stderr",
     "output_type": "stream",
     "text": [
      "W0824 13:37:25.432297  4356 deprecation_wrapper.py:119] From C:\\Users\\akash\\Anaconda3\\envs\\tensorflow\\lib\\site-packages\\keras\\backend\\tensorflow_backend.py:1033: The name tf.assign_add is deprecated. Please use tf.compat.v1.assign_add instead.\n",
      "\n"
     ]
    },
    {
     "name": "stdout",
     "output_type": "stream",
     "text": [
      "Epoch 1/100\n",
      "8000/8000 [==============================] - 3s 377us/step - loss: 0.4819 - acc: 0.7954\n",
      "Epoch 2/100\n",
      "8000/8000 [==============================] - 2s 202us/step - loss: 0.4290 - acc: 0.7960\n",
      "Epoch 3/100\n",
      "8000/8000 [==============================] - 2s 254us/step - loss: 0.4239 - acc: 0.7960\n",
      "Epoch 4/100\n",
      "8000/8000 [==============================] - 2s 222us/step - loss: 0.4193 - acc: 0.8176\n",
      "Epoch 5/100\n",
      "8000/8000 [==============================] - 2s 226us/step - loss: 0.4166 - acc: 0.8247\n",
      "Epoch 6/100\n",
      "8000/8000 [==============================] - 2s 201us/step - loss: 0.4151 - acc: 0.8292\n",
      "Epoch 7/100\n",
      "8000/8000 [==============================] - 2s 197us/step - loss: 0.4136 - acc: 0.8324\n",
      "Epoch 8/100\n",
      "8000/8000 [==============================] - 2s 221us/step - loss: 0.4121 - acc: 0.8327\n",
      "Epoch 9/100\n",
      "8000/8000 [==============================] - 2s 219us/step - loss: 0.4109 - acc: 0.8327\n",
      "Epoch 10/100\n",
      "8000/8000 [==============================] - 2s 251us/step - loss: 0.4101 - acc: 0.8337\n",
      "Epoch 11/100\n",
      "8000/8000 [==============================] - 2s 202us/step - loss: 0.4091 - acc: 0.8334\n",
      "Epoch 12/100\n",
      "8000/8000 [==============================] - 2s 207us/step - loss: 0.4085 - acc: 0.8340\n",
      "Epoch 13/100\n",
      "8000/8000 [==============================] - 2s 200us/step - loss: 0.4082 - acc: 0.8344\n",
      "Epoch 14/100\n",
      "8000/8000 [==============================] - 2s 204us/step - loss: 0.4075 - acc: 0.8340\n",
      "Epoch 15/100\n",
      "8000/8000 [==============================] - 2s 195us/step - loss: 0.4068 - acc: 0.8351\n",
      "Epoch 16/100\n",
      "8000/8000 [==============================] - 2s 188us/step - loss: 0.4066 - acc: 0.8352\n",
      "Epoch 17/100\n",
      "8000/8000 [==============================] - 2s 223us/step - loss: 0.4060 - acc: 0.8346\n",
      "Epoch 18/100\n",
      "8000/8000 [==============================] - 2s 192us/step - loss: 0.4060 - acc: 0.8342\n",
      "Epoch 19/100\n",
      "8000/8000 [==============================] - 2s 190us/step - loss: 0.4054 - acc: 0.8356\n",
      "Epoch 20/100\n",
      "8000/8000 [==============================] - 2s 193us/step - loss: 0.4045 - acc: 0.8341\n",
      "Epoch 21/100\n",
      "8000/8000 [==============================] - 1s 183us/step - loss: 0.4041 - acc: 0.8352\n",
      "Epoch 22/100\n",
      "8000/8000 [==============================] - 2s 201us/step - loss: 0.4032 - acc: 0.8351\n",
      "Epoch 23/100\n",
      "8000/8000 [==============================] - 2s 189us/step - loss: 0.4042 - acc: 0.8344\n",
      "Epoch 24/100\n",
      "8000/8000 [==============================] - 2s 272us/step - loss: 0.4036 - acc: 0.8344\n",
      "Epoch 25/100\n",
      "8000/8000 [==============================] - 2s 194us/step - loss: 0.4025 - acc: 0.8340\n",
      "Epoch 26/100\n",
      "8000/8000 [==============================] - 2s 233us/step - loss: 0.4038 - acc: 0.8355\n",
      "Epoch 27/100\n",
      "8000/8000 [==============================] - 2s 258us/step - loss: 0.4028 - acc: 0.8355\n",
      "Epoch 28/100\n",
      "8000/8000 [==============================] - 2s 244us/step - loss: 0.4027 - acc: 0.8340\n",
      "Epoch 29/100\n",
      "8000/8000 [==============================] - 2s 252us/step - loss: 0.4027 - acc: 0.8336\n",
      "Epoch 30/100\n",
      "8000/8000 [==============================] - 2s 259us/step - loss: 0.4027 - acc: 0.8342\n",
      "Epoch 31/100\n",
      "8000/8000 [==============================] - 2s 225us/step - loss: 0.4025 - acc: 0.8352\n",
      "Epoch 32/100\n",
      "8000/8000 [==============================] - 2s 254us/step - loss: 0.4016 - acc: 0.8339\n",
      "Epoch 33/100\n",
      "8000/8000 [==============================] - 2s 198us/step - loss: 0.4019 - acc: 0.8341\n",
      "Epoch 34/100\n",
      "8000/8000 [==============================] - 1s 162us/step - loss: 0.4019 - acc: 0.8344\n",
      "Epoch 35/100\n",
      "8000/8000 [==============================] - 1s 177us/step - loss: 0.4021 - acc: 0.8349\n",
      "Epoch 36/100\n",
      "8000/8000 [==============================] - 2s 216us/step - loss: 0.4020 - acc: 0.8344\n",
      "Epoch 37/100\n",
      "8000/8000 [==============================] - 2s 190us/step - loss: 0.4011 - acc: 0.8341\n",
      "Epoch 38/100\n",
      "8000/8000 [==============================] - 1s 187us/step - loss: 0.4013 - acc: 0.8342\n",
      "Epoch 39/100\n",
      "8000/8000 [==============================] - 1s 185us/step - loss: 0.4009 - acc: 0.8349\n",
      "Epoch 40/100\n",
      "8000/8000 [==============================] - 1s 180us/step - loss: 0.4014 - acc: 0.8345\n",
      "Epoch 41/100\n",
      "8000/8000 [==============================] - 2s 213us/step - loss: 0.4015 - acc: 0.8350\n",
      "Epoch 42/100\n",
      "8000/8000 [==============================] - 2s 210us/step - loss: 0.4008 - acc: 0.8354\n",
      "Epoch 43/100\n",
      "8000/8000 [==============================] - 2s 203us/step - loss: 0.4008 - acc: 0.8356\n",
      "Epoch 44/100\n",
      "8000/8000 [==============================] - 2s 208us/step - loss: 0.4010 - acc: 0.8339\n",
      "Epoch 45/100\n",
      "8000/8000 [==============================] - 2s 210us/step - loss: 0.4010 - acc: 0.8350\n",
      "Epoch 46/100\n",
      "8000/8000 [==============================] - 2s 225us/step - loss: 0.4009 - acc: 0.8340\n",
      "Epoch 47/100\n",
      "8000/8000 [==============================] - 2s 253us/step - loss: 0.4004 - acc: 0.8347\n",
      "Epoch 48/100\n",
      "8000/8000 [==============================] - 2s 278us/step - loss: 0.4010 - acc: 0.8341\n",
      "Epoch 49/100\n",
      "8000/8000 [==============================] - 2s 248us/step - loss: 0.4007 - acc: 0.8339\n",
      "Epoch 50/100\n",
      "8000/8000 [==============================] - 2s 238us/step - loss: 0.4009 - acc: 0.8344\n",
      "Epoch 51/100\n",
      "8000/8000 [==============================] - 1s 183us/step - loss: 0.4005 - acc: 0.8345\n",
      "Epoch 52/100\n",
      "8000/8000 [==============================] - 2s 238us/step - loss: 0.4008 - acc: 0.8349\n",
      "Epoch 53/100\n",
      "8000/8000 [==============================] - 2s 205us/step - loss: 0.4007 - acc: 0.8334\n",
      "Epoch 54/100\n",
      "8000/8000 [==============================] - 1s 179us/step - loss: 0.4006 - acc: 0.8351\n",
      "Epoch 55/100\n",
      "8000/8000 [==============================] - 1s 183us/step - loss: 0.4005 - acc: 0.8344\n",
      "Epoch 56/100\n",
      "8000/8000 [==============================] - 1s 180us/step - loss: 0.4006 - acc: 0.8364\n",
      "Epoch 57/100\n",
      "8000/8000 [==============================] - 1s 187us/step - loss: 0.4004 - acc: 0.8352\n",
      "Epoch 58/100\n",
      "8000/8000 [==============================] - 1s 181us/step - loss: 0.4002 - acc: 0.8341\n",
      "Epoch 59/100\n",
      "8000/8000 [==============================] - 1s 178us/step - loss: 0.4003 - acc: 0.8360\n",
      "Epoch 60/100\n",
      "8000/8000 [==============================] - 1s 181us/step - loss: 0.4005 - acc: 0.8334\n",
      "Epoch 61/100\n",
      "8000/8000 [==============================] - 2s 203us/step - loss: 0.3998 - acc: 0.8379\n",
      "Epoch 62/100\n",
      "8000/8000 [==============================] - 2s 189us/step - loss: 0.4010 - acc: 0.8345\n",
      "Epoch 63/100\n",
      "8000/8000 [==============================] - 2s 190us/step - loss: 0.4001 - acc: 0.8345\n",
      "Epoch 64/100\n",
      "8000/8000 [==============================] - 1s 179us/step - loss: 0.4000 - acc: 0.8359\n",
      "Epoch 65/100\n",
      "8000/8000 [==============================] - 1s 179us/step - loss: 0.3999 - acc: 0.8340\n",
      "Epoch 66/100\n",
      "8000/8000 [==============================] - 1s 179us/step - loss: 0.3996 - acc: 0.8367\n",
      "Epoch 67/100\n",
      "8000/8000 [==============================] - 1s 179us/step - loss: 0.4001 - acc: 0.8355\n",
      "Epoch 68/100\n",
      "8000/8000 [==============================] - 2s 191us/step - loss: 0.4004 - acc: 0.8362\n",
      "Epoch 69/100\n",
      "8000/8000 [==============================] - 1s 185us/step - loss: 0.4000 - acc: 0.8357\n",
      "Epoch 70/100\n",
      "8000/8000 [==============================] - 1s 180us/step - loss: 0.3996 - acc: 0.8350\n",
      "Epoch 71/100\n",
      "8000/8000 [==============================] - 1s 183us/step - loss: 0.4006 - acc: 0.8340\n",
      "Epoch 72/100\n",
      "8000/8000 [==============================] - 1s 184us/step - loss: 0.4002 - acc: 0.8352\n",
      "Epoch 73/100\n",
      "8000/8000 [==============================] - 1s 178us/step - loss: 0.3996 - acc: 0.8356\n",
      "Epoch 74/100\n",
      "8000/8000 [==============================] - 2s 189us/step - loss: 0.3996 - acc: 0.8367 1s -\n",
      "Epoch 75/100\n",
      "8000/8000 [==============================] - 1s 183us/step - loss: 0.3999 - acc: 0.8351\n",
      "Epoch 76/100\n",
      "8000/8000 [==============================] - 2s 192us/step - loss: 0.3996 - acc: 0.8342\n",
      "Epoch 77/100\n",
      "8000/8000 [==============================] - 1s 182us/step - loss: 0.3994 - acc: 0.8346\n",
      "Epoch 78/100\n",
      "8000/8000 [==============================] - 1s 184us/step - loss: 0.3994 - acc: 0.8341\n",
      "Epoch 79/100\n",
      "8000/8000 [==============================] - 1s 185us/step - loss: 0.4002 - acc: 0.8347\n",
      "Epoch 80/100\n",
      "8000/8000 [==============================] - 1s 187us/step - loss: 0.3998 - acc: 0.8349\n",
      "Epoch 81/100\n",
      "8000/8000 [==============================] - 1s 182us/step - loss: 0.3999 - acc: 0.8345\n",
      "Epoch 82/100\n"
     ]
    },
    {
     "name": "stdout",
     "output_type": "stream",
     "text": [
      "8000/8000 [==============================] - 1s 171us/step - loss: 0.4003 - acc: 0.8352 0s - loss: 0.4039 \n",
      "Epoch 83/100\n",
      "8000/8000 [==============================] - 1s 169us/step - loss: 0.3997 - acc: 0.8344\n",
      "Epoch 84/100\n",
      "8000/8000 [==============================] - 1s 170us/step - loss: 0.3995 - acc: 0.8346\n",
      "Epoch 85/100\n",
      "8000/8000 [==============================] - 1s 178us/step - loss: 0.3996 - acc: 0.8357\n",
      "Epoch 86/100\n",
      "8000/8000 [==============================] - 1s 170us/step - loss: 0.3999 - acc: 0.8345\n",
      "Epoch 87/100\n",
      "8000/8000 [==============================] - 1s 174us/step - loss: 0.3997 - acc: 0.8351\n",
      "Epoch 88/100\n",
      "8000/8000 [==============================] - 2s 196us/step - loss: 0.3997 - acc: 0.8360\n",
      "Epoch 89/100\n",
      "8000/8000 [==============================] - 2s 196us/step - loss: 0.3996 - acc: 0.8347\n",
      "Epoch 90/100\n",
      "8000/8000 [==============================] - 2s 193us/step - loss: 0.3995 - acc: 0.8344\n",
      "Epoch 91/100\n",
      "8000/8000 [==============================] - 1s 182us/step - loss: 0.3995 - acc: 0.8352\n",
      "Epoch 92/100\n",
      "8000/8000 [==============================] - 1s 184us/step - loss: 0.3997 - acc: 0.8352\n",
      "Epoch 93/100\n",
      "8000/8000 [==============================] - 1s 183us/step - loss: 0.3998 - acc: 0.8352\n",
      "Epoch 94/100\n",
      "8000/8000 [==============================] - 1s 186us/step - loss: 0.3999 - acc: 0.8345\n",
      "Epoch 95/100\n",
      "8000/8000 [==============================] - 1s 182us/step - loss: 0.3996 - acc: 0.8342\n",
      "Epoch 96/100\n",
      "8000/8000 [==============================] - 2s 206us/step - loss: 0.3996 - acc: 0.8339\n",
      "Epoch 97/100\n",
      "8000/8000 [==============================] - 1s 187us/step - loss: 0.3992 - acc: 0.8354\n",
      "Epoch 98/100\n",
      "8000/8000 [==============================] - 1s 178us/step - loss: 0.3998 - acc: 0.8351\n",
      "Epoch 99/100\n",
      "8000/8000 [==============================] - 1s 179us/step - loss: 0.3998 - acc: 0.8354\n",
      "Epoch 100/100\n",
      "8000/8000 [==============================] - 1s 182us/step - loss: 0.3996 - acc: 0.8342\n"
     ]
    },
    {
     "data": {
      "text/plain": [
       "<keras.callbacks.History at 0x1b3ae2f5ac8>"
      ]
     },
     "execution_count": 105,
     "metadata": {},
     "output_type": "execute_result"
    }
   ],
   "source": [
    "# Fitting the ANN to the Training datasets\n",
    "classifier.fit(X_train, y_train, batch_size= 10, epochs = 100)"
   ]
  },
  {
   "cell_type": "code",
   "execution_count": 106,
   "metadata": {},
   "outputs": [],
   "source": [
    "#making the prediction\n",
    "y_pred = classifier.predict(X_test)"
   ]
  },
  {
   "cell_type": "code",
   "execution_count": 109,
   "metadata": {},
   "outputs": [],
   "source": [
    "y_pred = (y_pred>0.6)"
   ]
  },
  {
   "cell_type": "code",
   "execution_count": 110,
   "metadata": {},
   "outputs": [],
   "source": [
    "from sklearn.metrics import classification_report, confusion_matrix"
   ]
  },
  {
   "cell_type": "code",
   "execution_count": 112,
   "metadata": {},
   "outputs": [
    {
     "name": "stdout",
     "output_type": "stream",
     "text": [
      "              precision    recall  f1-score   support\n",
      "\n",
      "           0       0.80      1.00      0.89      1595\n",
      "           1       0.00      0.00      0.00       405\n",
      "\n",
      "    accuracy                           0.80      2000\n",
      "   macro avg       0.40      0.50      0.44      2000\n",
      "weighted avg       0.64      0.80      0.71      2000\n",
      "\n",
      "[[1595    0]\n",
      " [ 405    0]]\n"
     ]
    },
    {
     "name": "stderr",
     "output_type": "stream",
     "text": [
      "C:\\Users\\akash\\Anaconda3\\envs\\tensorflow\\lib\\site-packages\\sklearn\\metrics\\classification.py:1437: UndefinedMetricWarning: Precision and F-score are ill-defined and being set to 0.0 in labels with no predicted samples.\n",
      "  'precision', 'predicted', average, warn_for)\n"
     ]
    }
   ],
   "source": [
    "print(classification_report(y_test, y_pred))\n",
    "print(confusion_matrix(y_test, y_pred))"
   ]
  },
  {
   "cell_type": "code",
   "execution_count": 113,
   "metadata": {},
   "outputs": [],
   "source": [
    "acc = 1595/2000"
   ]
  },
  {
   "cell_type": "code",
   "execution_count": 114,
   "metadata": {},
   "outputs": [
    {
     "data": {
      "text/plain": [
       "0.7975"
      ]
     },
     "execution_count": 114,
     "metadata": {},
     "output_type": "execute_result"
    }
   ],
   "source": [
    "acc"
   ]
  },
  {
   "cell_type": "code",
   "execution_count": null,
   "metadata": {},
   "outputs": [],
   "source": []
  }
 ],
 "metadata": {
  "kernelspec": {
   "display_name": "Python 3.6 (tensorflow)",
   "language": "python",
   "name": "tensorflow"
  },
  "language_info": {
   "codemirror_mode": {
    "name": "ipython",
    "version": 3
   },
   "file_extension": ".py",
   "mimetype": "text/x-python",
   "name": "python",
   "nbconvert_exporter": "python",
   "pygments_lexer": "ipython3",
   "version": "3.6.8"
  }
 },
 "nbformat": 4,
 "nbformat_minor": 2
}
